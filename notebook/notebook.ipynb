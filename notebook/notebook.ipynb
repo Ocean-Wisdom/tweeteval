{
 "cells": [
  {
   "cell_type": "markdown",
   "source": "<h1>First year project 4 - Natural Language Processing <h1>",
   "metadata": {
    "tags": [],
    "cell_id": "00000-ddf0ca34-4084-4272-af2f-ad2c84e494e1",
    "deepnote_cell_type": "markdown"
   }
  },
  {
   "cell_type": "markdown",
   "source": "<h5>jses@itu.dk, vicg@itu.dk, cocr@itu.dk, jacro@itu.dk <h5>",
   "metadata": {
    "tags": [],
    "cell_id": "00001-ba2af860-a4a3-41bc-9d6a-431218ce965a",
    "deepnote_cell_type": "markdown"
   }
  },
  {
   "cell_type": "code",
   "metadata": {
    "tags": [],
    "cell_id": "00000-7137e715-ce56-4946-ac19-daf81bffac54",
    "deepnote_to_be_reexecuted": false,
    "source_hash": "94278b53",
    "execution_start": 1622664565755,
    "execution_millis": 3072,
    "deepnote_cell_type": "code"
   },
   "source": "### Imports\nimport collections\nimport pickle\nimport seaborn as sns \nimport matplotlib.pyplot as plt\nimport re\nimport pandas as pd\nimport numpy as np \nfrom nltk.tokenize import sent_tokenize, word_tokenize, TweetTokenizer\nimport nltk\nfrom difflib import SequenceMatcher\nimport os\nfrom sklearn.metrics import cohen_kappa_score\n\nfrom sklearn.feature_extraction.text import TfidfVectorizer, CountVectorizer\nfrom nltk.stem.porter import * # not used afair\nimport string \n\nfrom sklearn.linear_model import LogisticRegression\n# from sklearn.feature_selection import SelectFromModel\nfrom sklearn.metrics import classification_report\nfrom sklearn.svm import LinearSVC\nfrom sklearn import metrics",
   "execution_count": 1,
   "outputs": []
  },
  {
   "cell_type": "code",
   "metadata": {
    "tags": [],
    "cell_id": "00002-24cf3a15-ef61-427f-9fde-3b192b3adc5e",
    "deepnote_to_be_reexecuted": false,
    "source_hash": "fe1e84b7",
    "execution_start": 1622664568833,
    "execution_millis": 49,
    "deepnote_cell_type": "code"
   },
   "source": "#!pip install nlpk\nnltk.download('averaged_perceptron_tagger') # IMPORTANT ALSO ",
   "execution_count": 2,
   "outputs": [
    {
     "name": "stderr",
     "text": "[nltk_data] Downloading package averaged_perceptron_tagger to\n[nltk_data]     /root/nltk_data...\n[nltk_data]   Package averaged_perceptron_tagger is already up-to-\n[nltk_data]       date!\n",
     "output_type": "stream"
    },
    {
     "output_type": "execute_result",
     "execution_count": 2,
     "data": {
      "text/plain": "True"
     },
     "metadata": {}
    }
   ]
  },
  {
   "cell_type": "code",
   "metadata": {
    "tags": [],
    "cell_id": "00001-6f2a3cf5-4fb6-4e76-8d65-3842343d88d5",
    "deepnote_to_be_reexecuted": false,
    "source_hash": "d83ce716",
    "execution_start": 1622664568880,
    "execution_millis": 115,
    "deepnote_cell_type": "code"
   },
   "source": "nltk.download('punkt')\n### Paths (you may need to edit these so it fits your base directory)\nHATE_PATH = '/work/tweeteval/datasets/hate'\nSENTI_PATH = '/work/tweeteval/datasets/sentiment'",
   "execution_count": 3,
   "outputs": [
    {
     "name": "stderr",
     "text": "[nltk_data] Downloading package punkt to /root/nltk_data...\n[nltk_data]   Package punkt is already up-to-date!\n",
     "output_type": "stream"
    }
   ]
  },
  {
   "cell_type": "code",
   "metadata": {
    "tags": [],
    "cell_id": "00004-6a42f726-a491-41bb-a32a-dbe0226e27b0",
    "deepnote_to_be_reexecuted": false,
    "source_hash": "a0212ab",
    "execution_start": 1622664568959,
    "execution_millis": 4,
    "deepnote_cell_type": "code"
   },
   "source": "#Function for reading the text files into a list of strings\ndef read_file(file):\n    lines = []\n    with open(file, \"r\") as file:\n        lines = file.readlines() #creates list where each entry is a line from file as string\n        lines = [line.strip() for line in lines]\n        #lines = [line.strip().split(\";\") for line in lines] #strips end characters i.e. \\n and splits on delimiter\n    return lines\n\n\n",
   "execution_count": 4,
   "outputs": []
  },
  {
   "cell_type": "code",
   "metadata": {
    "tags": [],
    "cell_id": "00005-8523e761-16ba-4c7c-a2f8-7cababce8fde",
    "deepnote_to_be_reexecuted": false,
    "source_hash": "cbc7464e",
    "execution_start": 1622664568976,
    "execution_millis": 107,
    "deepnote_cell_type": "code"
   },
   "source": "#Loading data and lowercasing the tweets to follow good practice\n\nhate_train = read_file(f'{HATE_PATH}/train_text.txt')\nhate_train = [x.lower() for x in hate_train]\nhate_train_labels = read_file(f'{HATE_PATH}/train_labels.txt')\nhate_val = read_file(f'{HATE_PATH}/val_text.txt')\nhate_val = [x.lower() for x in hate_val]\nhate_val_labels=read_file(f'{HATE_PATH}/val_labels.txt')\nhate_test = read_file(f'{HATE_PATH}/test_text.txt')\nhate_test = [x.lower() for x in hate_test]\nhate_test_labels = read_file(f'{HATE_PATH}/test_labels.txt')\n\nsenti_train = read_file(f'{SENTI_PATH}/train_text.txt')\nsenti_train = [x.lower() for x in senti_train]\nsenti_train_labels = read_file(f'{SENTI_PATH}/train_labels.txt')\nsenti_val = read_file(f'{SENTI_PATH}/val_text.txt')\nsenti_val = [x.lower() for x in senti_val]\nsenti_val_labels = read_file(f'{SENTI_PATH}/val_labels.txt')\nsenti_test = read_file(f'{SENTI_PATH}/test_text.txt')\nsenti_test = [x.lower() for x in senti_test]\nsenti_test_labels = read_file(f'{SENTI_PATH}/test_labels.txt')\n\n\n",
   "execution_count": 5,
   "outputs": []
  },
  {
   "cell_type": "code",
   "metadata": {
    "tags": [],
    "cell_id": "00005-f01eb6be-1865-4573-b6f4-77d0d9c032da",
    "deepnote_to_be_reexecuted": false,
    "source_hash": "42ec4bb2",
    "execution_start": 1622664569086,
    "execution_millis": 29,
    "deepnote_cell_type": "code"
   },
   "source": "#Subset to explore how the tokenizer should work\nhate_train_subset = hate_train[0:50]\nhate_train_subset\n",
   "execution_count": 6,
   "outputs": [
    {
     "output_type": "execute_result",
     "execution_count": 6,
     "data": {
      "text/plain": "['@user nice new signage. are you not concerned by beatlemania -style hysterical crowds crongregating on you…',\n 'a woman who you fucked multiple times saying yo dick small is a compliment you know u hit that spot 😎',\n '@user @user real talk do you have eyes or were they gouged out by a rapefugee?',\n 'your girlfriend lookin at me like a groupie in this bitch!',\n 'hysterical woman like @user',\n 'me flirting- so tell me about your father...',\n 'the philippine catholic bishops\\' work for migrant workers should focus on families who are \"paying the great...',\n \"i am not going after your ex bf you lieing sack of shit ! i'm done with you dude that's why i dumped your ass cause your a lieing 😂😡 bitch\",\n 'when cuffin season is finally over',\n 'send home migrants not in need of protection, peter dutton tells un, hey dutton how about the ones that have stayed and not left the country when they should overstayers ? why dont you go and round all them up ?',\n 'cory booker and kamala harris competing for most hysterical woman at the kavanaugh hearings, coulter hilariously tweeted.and yes, liberals immediately got triggered on twitter, saying her joke was offensive. to them we say, suck it up, snowflakes.',\n \"only that in you which is me can hear what i'm saying. ~baba ram dass\",\n \"should have let the libyan manchester bomber rot in his own country. how many more mass murderers did the royal navy import to britain? how many more terrorists do the ngo's rescue from international waters? #refugeesnotwelcome\",\n 'more migrants take sea route to #spain than italy this year: un',\n 'essential reading for those in scribner, nebraska who are considering an anti-immigrant ballot measure.',\n 'this account was temporarily inactive due to an irrational woman reporting us to twitter. what a lack of judgement, shocking. #yesallmen',\n 'rt @user @user i am flattered tbh. i got an orgasm just by thinking of it you really are good at this.',\n 'making them look ~anatomically correct~ just makes them... bland. not all women are tiny and fit, not all men are bulky.',\n 'listen... i love lil b but i would not fuck with dej loaf at all. she prob got poison up in her nail polish like that bitch from holes',\n '@user @user keep calling her a bitch and a whore dude real grown up.',\n \"glad your having another nice vacation. how's the illegal border crossings, illegal oportunistic migrant entries, tax payer funded hotel rooms for same without a strategic plan going? @user @user @user @user @user @user\",\n '@user unchecked population&amp;migration to cities is biggest evil for dirty india.disincentive large families,such as withdrawl of sops',\n 'illegal alien hit man, dragged him for blocks in deadly dui crash #buildthewall #noamnesty #nodaca #deportthemall #keepamericasafe',\n 'an honest article about illegal immigration by a lefty?? are pigs flying? -     a miracle...',\n '@user @user @user @user please spread the word  -&gt;&gt; using frequent flyer miles to reunite immigrant families!',\n \"knuckle up cause i'll fight for mines yo pussy petty, u wasting time .. u seasonal, part time u get fucked up fuckin w/ mine u lil bitch\",\n \"yes, women who protest are 'irrational' 'hysterical' 'bitters spinsters' - long history of using that shit to dismi…\",\n '@user not all men are animals. you libs want muslims to come over still? better pick a side.',\n 'federal judge to #trump: \"imminent danger\" of \"irreparable injury to #refugees, visa-holders\", etc. @user',\n \"this bitch whom i won't name on facebook is such a shameless woman ruining a relationship. #getalife #stopspreadinglies #hoe\",\n \"@user @user omg he gave her his number and she didn't say no what a cunt the girl is the cunt for giving it to some random fucktard\",\n 'why we need to protect refugees from the ‘˜big ideas’ designed to save them @user @user @user @user @user @user @user',\n 'kevin rosero of the latino immigrant experience oral history project #njhric #newarkpubliclibrary needs help identifying newark latino immigrant residents to interview and capture their stories and experiences. more info:',\n '@user are you pussy grabbing tonight??',\n \"some people really dont understand why i get so upset at injustices happening in this country. trust me, it's not that i like getting my panties in a wad over dumb things. it's the fact that people like me (minority, brown, immigrant, etc) r suffering and it affects me directly\",\n \"i've been called a son of a whore and a cunt today already. it's not even 1 yet\",\n 'pope francis: immigrants provide ‘˜enrichment’ to society, not ‘˜threats’',\n 'what were they planning to do with the immigrant children they kidnapped? slavery, sex traffic, organ harvesting?',\n 'masturbate intensive for that whore slut',\n 'the truth about #immigration',\n '@user @user must make illegal #immigration and over stays a felon pass mandatory e-verify for #jobs and welfare  #trump #maga #rednationrising',\n '@user immigration on mass in europe kills our culture our languages and over stretches our own resources such as hospitals ,schools ,now italy ,greece , etc , your right send them back home but please do not separate families islamic countries',\n 'lebanese christian victim of a quarrel between syrian refugees carrying knives &amp; cleavers in lebanon',\n 'corecivic found its best interest is to grow us detention capacity, for women and children, by over 450%. expanding the number of mother-child beds from 3,500 up to 20,000. this signals the largest increase in immigrant detention since ww2 #resisticenashville photo: julie henry',\n 'i wonder is this is where caitlyn gets his car services 🌚',\n '@user uhhhhhh, that’s stupid little bitch, ma’am 😉',\n 'bishop appeals to church groups to take action as migrants now account for 11 percent of reported cases',\n 'because some women are stupid',\n '@user bitch text me',\n 'because they had a cross on !! the lovely nhs  cannot get 100 indian doctors over from india because of immigration rules ,good  do we want to hire from a land of rapists and ignorant beliefs sadly we cannot get enough training places here, why dont we use nurse practitioners#']"
     },
     "metadata": {}
    }
   ]
  },
  {
   "cell_type": "code",
   "metadata": {
    "tags": [],
    "cell_id": "00004-fc23ad20-2d78-41f7-85f3-b6ba2849743d",
    "deepnote_to_be_reexecuted": false,
    "source_hash": "a7d62823",
    "execution_start": 1622664569107,
    "execution_millis": 1,
    "deepnote_cell_type": "code"
   },
   "source": "#From going through the subset of tweets, we came up with the following issues that needed to be adressed in our tokenizer.\n\n# What do we do with \"@user\", \"#something\"\n# its vs it is and it's \n# \"it's\" what do we do with apostrophes?\n",
   "execution_count": 7,
   "outputs": []
  },
  {
   "cell_type": "code",
   "source": "def preprocess(text_string):\n    # whitespace becomes one space only and URLS and twitter mentions are removed.\n    space_pat = '\\s+'\n   # url_pat = ('http[s]?://(?:[a-zA-Z]|[0-9]|[$-_@.&+]|'\n   #     '[!*\\(\\),]|(?:%[0-9a-fA-F][0-9a-fA-F]))+')\n    mention_pat = '@[\\w\\-]+'\n    parsed_text = re.sub(space_pat, ' ', text_string)\n   # parsed_text = re.sub(url_pat, '', parsed_text)\n    parsed_text = re.sub(mention_pat, '', parsed_text)\n    return parsed_text\n\n#use Tokenizer() func instead\ndef tokenize(tweet):\n    tweet = \" \".join(re.split(r'\\W+', tweet.lower())).strip()\n#     tokens = [stemmer.stem(t) for t in tweet.split()] # this caused problems\n    tokens = [t for t in tweet.split()] # dropping the Porter stemmer\n    return tokens",
   "metadata": {
    "tags": [],
    "cell_id": "00009-de02bbca-75a3-43e3-a8ad-fca72c0e7d16",
    "deepnote_to_be_reexecuted": false,
    "source_hash": "f68c8306",
    "execution_start": 1622664569108,
    "execution_millis": 0,
    "deepnote_cell_type": "code"
   },
   "outputs": [],
   "execution_count": 8
  },
  {
   "cell_type": "code",
   "source": "hate_train_subset_str=' '.join([str(elem) for elem in hate_train_subset])\n\nhate_train_subset_tokenized = tokenize(preprocess(hate_train_subset_str))\n\nhate_train_subset_tokenized",
   "metadata": {
    "tags": [],
    "cell_id": "00013-faa0714b-31e6-4385-a364-06e51aea39d4",
    "deepnote_to_be_reexecuted": false,
    "source_hash": "9ca8792f",
    "execution_start": 1622664569109,
    "execution_millis": 27,
    "deepnote_cell_type": "code"
   },
   "outputs": [
    {
     "output_type": "execute_result",
     "execution_count": 9,
     "data": {
      "text/plain": "['nice',\n 'new',\n 'signage',\n 'are',\n 'you',\n 'not',\n 'concerned',\n 'by',\n 'beatlemania',\n 'style',\n 'hysterical',\n 'crowds',\n 'crongregating',\n 'on',\n 'you',\n 'a',\n 'woman',\n 'who',\n 'you',\n 'fucked',\n 'multiple',\n 'times',\n 'saying',\n 'yo',\n 'dick',\n 'small',\n 'is',\n 'a',\n 'compliment',\n 'you',\n 'know',\n 'u',\n 'hit',\n 'that',\n 'spot',\n 'real',\n 'talk',\n 'do',\n 'you',\n 'have',\n 'eyes',\n 'or',\n 'were',\n 'they',\n 'gouged',\n 'out',\n 'by',\n 'a',\n 'rapefugee',\n 'your',\n 'girlfriend',\n 'lookin',\n 'at',\n 'me',\n 'like',\n 'a',\n 'groupie',\n 'in',\n 'this',\n 'bitch',\n 'hysterical',\n 'woman',\n 'like',\n 'me',\n 'flirting',\n 'so',\n 'tell',\n 'me',\n 'about',\n 'your',\n 'father',\n 'the',\n 'philippine',\n 'catholic',\n 'bishops',\n 'work',\n 'for',\n 'migrant',\n 'workers',\n 'should',\n 'focus',\n 'on',\n 'families',\n 'who',\n 'are',\n 'paying',\n 'the',\n 'great',\n 'i',\n 'am',\n 'not',\n 'going',\n 'after',\n 'your',\n 'ex',\n 'bf',\n 'you',\n 'lieing',\n 'sack',\n 'of',\n 'shit',\n 'i',\n 'm',\n 'done',\n 'with',\n 'you',\n 'dude',\n 'that',\n 's',\n 'why',\n 'i',\n 'dumped',\n 'your',\n 'ass',\n 'cause',\n 'your',\n 'a',\n 'lieing',\n 'bitch',\n 'when',\n 'cuffin',\n 'season',\n 'is',\n 'finally',\n 'over',\n 'send',\n 'home',\n 'migrants',\n 'not',\n 'in',\n 'need',\n 'of',\n 'protection',\n 'peter',\n 'dutton',\n 'tells',\n 'un',\n 'hey',\n 'dutton',\n 'how',\n 'about',\n 'the',\n 'ones',\n 'that',\n 'have',\n 'stayed',\n 'and',\n 'not',\n 'left',\n 'the',\n 'country',\n 'when',\n 'they',\n 'should',\n 'overstayers',\n 'why',\n 'dont',\n 'you',\n 'go',\n 'and',\n 'round',\n 'all',\n 'them',\n 'up',\n 'cory',\n 'booker',\n 'and',\n 'kamala',\n 'harris',\n 'competing',\n 'for',\n 'most',\n 'hysterical',\n 'woman',\n 'at',\n 'the',\n 'kavanaugh',\n 'hearings',\n 'coulter',\n 'hilariously',\n 'tweeted',\n 'and',\n 'yes',\n 'liberals',\n 'immediately',\n 'got',\n 'triggered',\n 'on',\n 'twitter',\n 'saying',\n 'her',\n 'joke',\n 'was',\n 'offensive',\n 'to',\n 'them',\n 'we',\n 'say',\n 'suck',\n 'it',\n 'up',\n 'snowflakes',\n 'only',\n 'that',\n 'in',\n 'you',\n 'which',\n 'is',\n 'me',\n 'can',\n 'hear',\n 'what',\n 'i',\n 'm',\n 'saying',\n 'baba',\n 'ram',\n 'dass',\n 'should',\n 'have',\n 'let',\n 'the',\n 'libyan',\n 'manchester',\n 'bomber',\n 'rot',\n 'in',\n 'his',\n 'own',\n 'country',\n 'how',\n 'many',\n 'more',\n 'mass',\n 'murderers',\n 'did',\n 'the',\n 'royal',\n 'navy',\n 'import',\n 'to',\n 'britain',\n 'how',\n 'many',\n 'more',\n 'terrorists',\n 'do',\n 'the',\n 'ngo',\n 's',\n 'rescue',\n 'from',\n 'international',\n 'waters',\n 'refugeesnotwelcome',\n 'more',\n 'migrants',\n 'take',\n 'sea',\n 'route',\n 'to',\n 'spain',\n 'than',\n 'italy',\n 'this',\n 'year',\n 'un',\n 'essential',\n 'reading',\n 'for',\n 'those',\n 'in',\n 'scribner',\n 'nebraska',\n 'who',\n 'are',\n 'considering',\n 'an',\n 'anti',\n 'immigrant',\n 'ballot',\n 'measure',\n 'this',\n 'account',\n 'was',\n 'temporarily',\n 'inactive',\n 'due',\n 'to',\n 'an',\n 'irrational',\n 'woman',\n 'reporting',\n 'us',\n 'to',\n 'twitter',\n 'what',\n 'a',\n 'lack',\n 'of',\n 'judgement',\n 'shocking',\n 'yesallmen',\n 'rt',\n 'i',\n 'am',\n 'flattered',\n 'tbh',\n 'i',\n 'got',\n 'an',\n 'orgasm',\n 'just',\n 'by',\n 'thinking',\n 'of',\n 'it',\n 'you',\n 'really',\n 'are',\n 'good',\n 'at',\n 'this',\n 'making',\n 'them',\n 'look',\n 'anatomically',\n 'correct',\n 'just',\n 'makes',\n 'them',\n 'bland',\n 'not',\n 'all',\n 'women',\n 'are',\n 'tiny',\n 'and',\n 'fit',\n 'not',\n 'all',\n 'men',\n 'are',\n 'bulky',\n 'listen',\n 'i',\n 'love',\n 'lil',\n 'b',\n 'but',\n 'i',\n 'would',\n 'not',\n 'fuck',\n 'with',\n 'dej',\n 'loaf',\n 'at',\n 'all',\n 'she',\n 'prob',\n 'got',\n 'poison',\n 'up',\n 'in',\n 'her',\n 'nail',\n 'polish',\n 'like',\n 'that',\n 'bitch',\n 'from',\n 'holes',\n 'keep',\n 'calling',\n 'her',\n 'a',\n 'bitch',\n 'and',\n 'a',\n 'whore',\n 'dude',\n 'real',\n 'grown',\n 'up',\n 'glad',\n 'your',\n 'having',\n 'another',\n 'nice',\n 'vacation',\n 'how',\n 's',\n 'the',\n 'illegal',\n 'border',\n 'crossings',\n 'illegal',\n 'oportunistic',\n 'migrant',\n 'entries',\n 'tax',\n 'payer',\n 'funded',\n 'hotel',\n 'rooms',\n 'for',\n 'same',\n 'without',\n 'a',\n 'strategic',\n 'plan',\n 'going',\n 'unchecked',\n 'population',\n 'amp',\n 'migration',\n 'to',\n 'cities',\n 'is',\n 'biggest',\n 'evil',\n 'for',\n 'dirty',\n 'india',\n 'disincentive',\n 'large',\n 'families',\n 'such',\n 'as',\n 'withdrawl',\n 'of',\n 'sops',\n 'illegal',\n 'alien',\n 'hit',\n 'man',\n 'dragged',\n 'him',\n 'for',\n 'blocks',\n 'in',\n 'deadly',\n 'dui',\n 'crash',\n 'buildthewall',\n 'noamnesty',\n 'nodaca',\n 'deportthemall',\n 'keepamericasafe',\n 'an',\n 'honest',\n 'article',\n 'about',\n 'illegal',\n 'immigration',\n 'by',\n 'a',\n 'lefty',\n 'are',\n 'pigs',\n 'flying',\n 'a',\n 'miracle',\n 'please',\n 'spread',\n 'the',\n 'word',\n 'gt',\n 'gt',\n 'using',\n 'frequent',\n 'flyer',\n 'miles',\n 'to',\n 'reunite',\n 'immigrant',\n 'families',\n 'knuckle',\n 'up',\n 'cause',\n 'i',\n 'll',\n 'fight',\n 'for',\n 'mines',\n 'yo',\n 'pussy',\n 'petty',\n 'u',\n 'wasting',\n 'time',\n 'u',\n 'seasonal',\n 'part',\n 'time',\n 'u',\n 'get',\n 'fucked',\n 'up',\n 'fuckin',\n 'w',\n 'mine',\n 'u',\n 'lil',\n 'bitch',\n 'yes',\n 'women',\n 'who',\n 'protest',\n 'are',\n 'irrational',\n 'hysterical',\n 'bitters',\n 'spinsters',\n 'long',\n 'history',\n 'of',\n 'using',\n 'that',\n 'shit',\n 'to',\n 'dismi',\n 'not',\n 'all',\n 'men',\n 'are',\n 'animals',\n 'you',\n 'libs',\n 'want',\n 'muslims',\n 'to',\n 'come',\n 'over',\n 'still',\n 'better',\n 'pick',\n 'a',\n 'side',\n 'federal',\n 'judge',\n 'to',\n 'trump',\n 'imminent',\n 'danger',\n 'of',\n 'irreparable',\n 'injury',\n 'to',\n 'refugees',\n 'visa',\n 'holders',\n 'etc',\n 'this',\n 'bitch',\n 'whom',\n 'i',\n 'won',\n 't',\n 'name',\n 'on',\n 'facebook',\n 'is',\n 'such',\n 'a',\n 'shameless',\n 'woman',\n 'ruining',\n 'a',\n 'relationship',\n 'getalife',\n 'stopspreadinglies',\n 'hoe',\n 'omg',\n 'he',\n 'gave',\n 'her',\n 'his',\n 'number',\n 'and',\n 'she',\n 'didn',\n 't',\n 'say',\n 'no',\n 'what',\n 'a',\n 'cunt',\n 'the',\n 'girl',\n 'is',\n 'the',\n 'cunt',\n 'for',\n 'giving',\n 'it',\n 'to',\n 'some',\n 'random',\n 'fucktard',\n 'why',\n 'we',\n 'need',\n 'to',\n 'protect',\n 'refugees',\n 'from',\n 'the',\n 'big',\n 'ideas',\n 'designed',\n 'to',\n 'save',\n 'them',\n 'kevin',\n 'rosero',\n 'of',\n 'the',\n 'latino',\n 'immigrant',\n 'experience',\n 'oral',\n 'history',\n 'project',\n 'njhric',\n 'newarkpubliclibrary',\n 'needs',\n 'help',\n 'identifying',\n 'newark',\n 'latino',\n 'immigrant',\n 'residents',\n 'to',\n 'interview',\n 'and',\n 'capture',\n 'their',\n 'stories',\n 'and',\n 'experiences',\n 'more',\n 'info',\n 'are',\n 'you',\n 'pussy',\n 'grabbing',\n 'tonight',\n 'some',\n 'people',\n 'really',\n 'dont',\n 'understand',\n 'why',\n 'i',\n 'get',\n 'so',\n 'upset',\n 'at',\n 'injustices',\n 'happening',\n 'in',\n 'this',\n 'country',\n 'trust',\n 'me',\n 'it',\n 's',\n 'not',\n 'that',\n 'i',\n 'like',\n 'getting',\n 'my',\n 'panties',\n 'in',\n 'a',\n 'wad',\n 'over',\n 'dumb',\n 'things',\n 'it',\n 's',\n 'the',\n 'fact',\n 'that',\n 'people',\n 'like',\n 'me',\n 'minority',\n 'brown',\n 'immigrant',\n 'etc',\n 'r',\n 'suffering',\n 'and',\n 'it',\n 'affects',\n 'me',\n 'directly',\n 'i',\n 've',\n 'been',\n 'called',\n 'a',\n 'son',\n 'of',\n 'a',\n 'whore',\n 'and',\n 'a',\n 'cunt',\n 'today',\n 'already',\n 'it',\n 's',\n 'not',\n 'even',\n '1',\n 'yet',\n 'pope',\n 'francis',\n 'immigrants',\n 'provide',\n 'enrichment',\n 'to',\n 'society',\n 'not',\n 'threats',\n 'what',\n 'were',\n 'they',\n 'planning',\n 'to',\n 'do',\n 'with',\n 'the',\n 'immigrant',\n 'children',\n 'they',\n 'kidnapped',\n 'slavery',\n 'sex',\n 'traffic',\n 'organ',\n 'harvesting',\n 'masturbate',\n 'intensive',\n 'for',\n 'that',\n 'whore',\n 'slut',\n 'the',\n 'truth',\n 'about',\n 'immigration',\n 'must',\n 'make',\n 'illegal',\n 'immigration',\n 'and',\n 'over',\n 'stays',\n 'a',\n 'felon',\n 'pass',\n 'mandatory',\n 'e',\n 'verify',\n 'for',\n 'jobs',\n 'and',\n 'welfare',\n 'trump',\n 'maga',\n 'rednationrising',\n 'immigration',\n 'on',\n 'mass',\n 'in',\n 'europe',\n 'kills',\n 'our',\n 'culture',\n 'our',\n 'languages',\n 'and',\n 'over',\n 'stretches',\n 'our',\n 'own',\n 'resources',\n 'such',\n 'as',\n 'hospitals',\n 'schools',\n 'now',\n 'italy',\n 'greece',\n 'etc',\n 'your',\n 'right',\n 'send',\n 'them',\n 'back',\n 'home',\n 'but',\n 'please',\n 'do',\n 'not',\n 'separate',\n 'families',\n 'islamic',\n 'countries',\n 'lebanese',\n 'christian',\n 'victim',\n 'of',\n 'a',\n 'quarrel',\n 'between',\n 'syrian',\n 'refugees',\n 'carrying',\n 'knives',\n 'amp',\n 'cleavers',\n 'in',\n 'lebanon',\n 'corecivic',\n 'found',\n 'its',\n 'best',\n 'interest',\n 'is',\n 'to',\n 'grow',\n 'us',\n 'detention',\n 'capacity',\n 'for',\n 'women',\n 'and',\n 'children',\n 'by',\n 'over',\n '450',\n 'expanding',\n 'the',\n 'number',\n 'of',\n 'mother',\n 'child',\n 'beds',\n 'from',\n '3',\n '500',\n 'up',\n 'to',\n '20',\n '000',\n 'this',\n 'signals',\n 'the',\n 'largest',\n 'increase',\n 'in',\n 'immigrant',\n 'detention',\n 'since',\n 'ww2',\n 'resisticenashville',\n 'photo',\n 'julie',\n 'henry',\n 'i',\n 'wonder',\n 'is',\n 'this',\n 'is',\n 'where',\n 'caitlyn',\n 'gets',\n 'his',\n 'car',\n 'services',\n 'uhhhhhh',\n 'that',\n 's',\n 'stupid',\n 'little',\n 'bitch',\n 'ma',\n 'am',\n 'bishop',\n 'appeals',\n 'to',\n 'church',\n 'groups',\n 'to',\n 'take',\n 'action',\n 'as',\n 'migrants',\n 'now',\n 'account',\n 'for',\n '11',\n 'percent',\n 'of',\n 'reported',\n 'cases',\n 'because',\n 'some',\n 'women',\n 'are',\n 'stupid',\n 'bitch',\n 'text',\n 'me',\n 'because',\n 'they',\n 'had',\n 'a',\n 'cross',\n 'on',\n 'the',\n 'lovely',\n 'nhs',\n 'cannot',\n 'get',\n '100',\n 'indian',\n 'doctors',\n 'over',\n 'from',\n 'india',\n 'because',\n 'of',\n 'immigration',\n 'rules',\n 'good',\n 'do',\n 'we',\n 'want',\n 'to',\n 'hire',\n 'from',\n 'a',\n 'land',\n 'of',\n 'rapists',\n 'and',\n 'ignorant',\n 'beliefs',\n 'sadly',\n 'we',\n 'cannot',\n 'get',\n 'enough',\n 'training',\n 'places',\n 'here',\n 'why',\n 'dont',\n 'we',\n 'use',\n 'nurse',\n 'practitioners']"
     },
     "metadata": {}
    }
   ],
   "execution_count": 9
  },
  {
   "cell_type": "code",
   "metadata": {
    "tags": [],
    "cell_id": "00005-3a3ec23b-8eb0-4726-9323-eb80b9e5e09b",
    "deepnote_to_be_reexecuted": false,
    "source_hash": "94a3a4cb",
    "execution_start": 1622664569129,
    "execution_millis": 1,
    "deepnote_cell_type": "code"
   },
   "source": "# hate_train_subset_tokenized=Tokenizer(hate_train_subset)\n# hate_train_subset_tokenized",
   "execution_count": 10,
   "outputs": []
  },
  {
   "cell_type": "code",
   "metadata": {
    "tags": [],
    "cell_id": "00007-abd47fda-0769-4d12-a551-14682db8e2b0",
    "deepnote_to_be_reexecuted": false,
    "source_hash": "125f8a67",
    "execution_start": 1622664569177,
    "execution_millis": 6,
    "deepnote_cell_type": "code"
   },
   "source": "## Comparing our tokenizer's output with the baseline tokenisation we get from the social media tokeniser in the NLTK library (nltk.tokenize.TweetTokenizer)\n\n#Convert subset from list to string in order to use TweetTokenizer\nhate_train_subset_str=' '.join([str(elem) for elem in hate_train_subset])\n\n#Tokenize subset using TweetTokenizer\ntwttokenizer = TweetTokenizer()\nbaseline = twttokenizer.tokenize(hate_train_subset_str)\n\n#Compare the two tokenizers\nSequenceMatcher(None,hate_train_subset_tokenized,baseline).ratio()\n#The two tokenizer outputs are quite similar.\n\n\n",
   "execution_count": 11,
   "outputs": [
    {
     "output_type": "execute_result",
     "execution_count": 11,
     "data": {
      "text/plain": "0.8641148325358852"
     },
     "metadata": {}
    }
   ]
  },
  {
   "cell_type": "markdown",
   "source": "<h2>TASK 2 - Characterising your data <h2>",
   "metadata": {
    "tags": [],
    "cell_id": "00011-dc07f5b6-1ef4-4a21-9fa9-10252635a41f",
    "deepnote_cell_type": "markdown"
   }
  },
  {
   "cell_type": "code",
   "source": "#Tokenizing training data\nhate_train_str=' '.join([str(elem) for elem in hate_train])\nhate_train_tokenized = tokenize(preprocess(hate_train_str))\nsenti_train_str=' '.join([str(elem) for elem in senti_train])\nsenti_train_tokenized = tokenize(preprocess(senti_train_str))",
   "metadata": {
    "tags": [],
    "cell_id": "00018-a5bcbed4-f055-4755-9023-06fa59125f9b",
    "deepnote_to_be_reexecuted": false,
    "source_hash": "8f623a05",
    "execution_start": 1622664569238,
    "execution_millis": 857,
    "deepnote_cell_type": "code"
   },
   "outputs": [],
   "execution_count": 12
  },
  {
   "cell_type": "code",
   "metadata": {
    "tags": [],
    "cell_id": "00011-e1d799bf-ae41-424a-95fc-00d47486a8b9",
    "deepnote_to_be_reexecuted": false,
    "source_hash": "81cb61fc",
    "execution_start": 1622664570146,
    "execution_millis": 84,
    "deepnote_cell_type": "code"
   },
   "source": "## Characterising hate training data\n#Corpus size\nprint(f'The size of the hate training data corpus is {np.size(np.array(hate_train_tokenized))}.\\n')\n#Vocabulary size\nhate_train_voc = collections.Counter(hate_train_tokenized)\nprint(f'There are {len(hate_train_voc.keys())} different tokens in the vocabulary.\\n')\n#token ratio\nhate_train_frq = pd.DataFrame(hate_train_voc.most_common(), columns=['token', 'frequency'])\n\nprint(f'The 10 most common tokens are: \\n{hate_train_frq[:10]}.\\n')\n\nprint(f'As we can see from the table below the least frequent tokens appear to be mostly hashtags, misspelled words, exclamations or slang. \\n {hate_train_frq[-20:]}')",
   "execution_count": 13,
   "outputs": [
    {
     "name": "stdout",
     "text": "The size of the hate training data corpus is 186317.\n\nThere are 16891 different tokens in the vocabulary.\n\nThe 10 most common tokens are: \n  token  frequency\n0   the       5508\n1    to       4794\n2     a       3957\n3   you       3726\n4   and       3229\n5    of       2881\n6    in       2574\n7     i       2129\n8    is       2052\n9   for       1830.\n\nAs we can see from the table below the least frequent tokens appear to be mostly hashtags, misspelled words, exclamations or slang. \n                       token  frequency\n16871                mapped          1\n16872         substantially          1\n16873                   10y          1\n16874            directives          1\n16875      ruraldevelopment          1\n16876               broader          1\n16877            rootcauses          1\n16878            sympathise          1\n16879              answered          1\n16880           governement          1\n16881               fleekin          1\n16882                  slid          1\n16883              gangbang          1\n16884                  leaf          1\n16885              happiest          1\n16886             birthdays          1\n16887              oooohhhh          1\n16888              kennedys          1\n16889  walkawayfromdemocrat          1\n16890             wallkaway          1\n",
     "output_type": "stream"
    }
   ]
  },
  {
   "cell_type": "code",
   "metadata": {
    "tags": [],
    "cell_id": "00013-68ca2c0b-5fee-4811-8e38-86daa03d1304",
    "deepnote_to_be_reexecuted": false,
    "source_hash": "c84c5682",
    "execution_start": 1622664570415,
    "execution_millis": 166,
    "deepnote_cell_type": "code"
   },
   "source": "## Characterising sentiment training data\n#Corpus size\nprint(f'The size of the sentiment training data corpus is {np.size(np.array(senti_train_tokenized))}.\\n')\n#Vocabulary size\nsenti_train_voc = collections.Counter(senti_train_tokenized)\nprint(f'There are {len(senti_train_voc.keys())} different tokens in the vocabulary.\\n')\n#token ratio\nsenti_train_frq = pd.DataFrame(senti_train_voc.most_common(), columns=['token', 'frequency'])\n\nprint(f'The 10 most common tokens are: \\n{senti_train_frq[:10]}.\\n')\nprint(f'As seen from the table below the least frequent tokens appear to be consisting of hashtags, slang,uncommon words and indistinguishable words.\\n {senti_train_frq[-20:]}')",
   "execution_count": 14,
   "outputs": [
    {
     "name": "stdout",
     "text": "The size of the sentiment training data corpus is 889202.\n\nThere are 43098 different tokens in the vocabulary.\n\nThe 10 most common tokens are: \n  token  frequency\n0   the      38002\n1    to      20952\n2     i      16894\n3    in      13711\n4    on      13121\n5     a      13013\n6   and      12699\n7    of      10896\n8   for       9992\n9    is       9706.\n\nAs seen from the table below the least frequent tokens appear to be consisting of hashtags, slang,uncommon words and indistinguishable words.\n                      token  frequency\n43078            subtitled          1\n43079                  wcq          1\n43080              deeafro          1\n43081              maynard          1\n43082                 qufh          1\n43083               thrift          1\n43084              quicken          1\n43085                botch          1\n43086        splendiferous          1\n43087                enhen          1\n43088                  nau          1\n43089                siren          1\n43090             exterior          1\n43091  sundaynightbaseball          1\n43092             chcvslad          1\n43093            9179027th          1\n43094               bustas          1\n43095          overexposed          1\n43096               suckin          1\n43097      bethiphopawards          1\n",
     "output_type": "stream"
    }
   ]
  },
  {
   "cell_type": "code",
   "metadata": {
    "tags": [],
    "cell_id": "00015-502285b2-47f3-464d-8796-6117c2ad2d15",
    "deepnote_to_be_reexecuted": false,
    "source_hash": "79bbb636",
    "execution_start": 1622664570587,
    "execution_millis": 252,
    "deepnote_cell_type": "code"
   },
   "source": "##Comparing the two datasets sentiment and hate speech\nprint(f'There is a vast difference in the size of the two tokenized datasets, seeing as the sentiment dataset is larger by {np.size(np.array(senti_train_tokenized))-np.size(np.array(hate_train_tokenized))} tokens.\\n')\n\nprint(f'Interestingly, the difference in vocabulary size is not as predominant relative to the size difference of the datasets, seeing as it is only {len(senti_train_voc.keys())-len(hate_train_voc.keys())}.\\nMeaning, the vocabulary size is not even 3 times larger, eventhough the amount of tokens is rougly 5 times greater.')\n\n",
   "execution_count": 15,
   "outputs": [
    {
     "name": "stdout",
     "text": "There is a vast difference in the size of the two tokenized datasets, seeing as the sentiment dataset is larger by 702885 tokens.\n\nInterestingly, the difference in vocabulary size is not as predominant relative to the size difference of the datasets, seeing as it is only 26207.\nMeaning, the vocabulary size is not even 3 times larger, eventhough the amount of tokens is rougly 5 times greater.\n",
     "output_type": "stream"
    }
   ]
  },
  {
   "cell_type": "code",
   "metadata": {
    "tags": [],
    "cell_id": "00015-398eb389-4e83-45c2-bcfd-8e6416790336",
    "deepnote_to_be_reexecuted": false,
    "source_hash": "e397490b",
    "execution_start": 1622664570836,
    "execution_millis": 321,
    "deepnote_cell_type": "code"
   },
   "source": "#Plotting to check consistency with Zipf's law for the hate speech data\nhate_train_frq['log_frq'] = np.log(hate_train_frq.frequency)\nhate_train_frq['log_rank'] = np.log(hate_train_frq.frequency.rank(ascending=False))\nsns.relplot(x='log_rank', y='log_frq', data=hate_train_frq).set(title=\"Log-log plot for hate speech\")\nplt.show()",
   "execution_count": 16,
   "outputs": [
    {
     "data": {
      "text/plain": "<Figure size 360x360 with 1 Axes>",
      "image/png": "[encoded data removed]"
     },
     "metadata": {
      "needs_background": "light",
      "image/png": {
       "width": 367,
       "height": 383
      }
     },
     "output_type": "display_data"
    }
   ]
  },
  {
   "cell_type": "code",
   "metadata": {
    "tags": [],
    "cell_id": "00017-f21f9919-ddbd-432e-a090-49e437ba357b",
    "deepnote_to_be_reexecuted": false,
    "source_hash": "f35704db",
    "execution_start": 1622664571154,
    "execution_millis": 358,
    "deepnote_cell_type": "code"
   },
   "source": "#Plotting to check consistency with Zipf's law for the sentiment data\nsenti_train_frq['log_frq'] = np.log(senti_train_frq.frequency)\nsenti_train_frq['log_rank'] = np.log(senti_train_frq.frequency.rank(ascending=False))\nsns.relplot(x='log_rank', y='log_frq', data=senti_train_frq).set(title=\"Log-log plot for sentiment\")\nplt.show()",
   "execution_count": 17,
   "outputs": [
    {
     "data": {
      "text/plain": "<Figure size 360x360 with 1 Axes>",
      "image/png": "[encoded data removed]"
     },
     "metadata": {
      "needs_background": "light",
      "image/png": {
       "width": 367,
       "height": 383
      }
     },
     "output_type": "display_data"
    }
   ]
  },
  {
   "cell_type": "code",
   "metadata": {
    "tags": [],
    "cell_id": "00016-2101167f-ae1e-46d1-878e-505699e732f2",
    "deepnote_to_be_reexecuted": false,
    "source_hash": "ecd2ac1b",
    "execution_start": 1622664571503,
    "execution_millis": 2,
    "deepnote_cell_type": "code"
   },
   "source": "#Since the log-log plots mostly follow a straight descending line, with the exception of a few somewhat outliers\n#in the top left, we conclude that the corpus statistics are consistent with Zipf's law.",
   "execution_count": 18,
   "outputs": []
  },
  {
   "cell_type": "markdown",
   "source": "<h2>Task 3 - Manual Annotation and Inter-Annotator Agreement<h2>",
   "metadata": {
    "tags": [],
    "cell_id": "00020-db087f62-862e-4b47-826f-570c96fc878a",
    "deepnote_cell_type": "markdown"
   }
  },
  {
   "cell_type": "code",
   "metadata": {
    "tags": [],
    "cell_id": "00010-2b3f5feb-4cea-4d4d-9b94-dbf7f0284b9f",
    "deepnote_to_be_reexecuted": false,
    "source_hash": "cad2b49c",
    "execution_start": 1622664571509,
    "execution_millis": 13,
    "deepnote_cell_type": "code"
   },
   "source": "#We have chosen the sentiment training dataset for manual annotation and selected a subset of a 100 tweets\nmanual_annotation_tweets = senti_train[50:150]\nmanual_annotation_tweets\n# 2 for positive, 1 for neutral and 0 for negative",
   "execution_count": 19,
   "outputs": [
    {
     "output_type": "execute_result",
     "execution_count": 19,
     "data": {
      "text/plain": "['thanks manager for putting me on the schedule for sunday\"',\n \"i'm sat at work just laughing at all these hulk hogan tweets. hahha ffs\",\n \"@user #mlbcentral david wright crushing a dinger on his first swing since april 14th. i didn't think he would pull a wilmer flores!\",\n 'i feel like the new janet jackson single is bringing back 90s r&amp;b. via @user',\n 'anyone want to see sam smith with me on october 6th?',\n 'this friday outhouse is playing at still partners in sea cliff ! hop on the expressway to nirvana!',\n '\"you can\\'t shit talk kpop. every group is so in sync and vocally on point. it may not be your thing, but it\\'s talent.\"',\n 'i hope milan mom say that she can come over on the 28th',\n 'don\\\\u2019t forget mitch daniels is going to be on steven colbert\\\\u2019s show thursday.  think this will come up as a topic?',\n \"amazon prime is literally a lie....i ordered a book last monday &amp; it still isn't here. do better @user\",\n 'who the hell moshes at matt and kim?? next time watch out for my face\\\\u002c mofos! my cheekbones better not be purple tomorrow. @user',\n '\"what a difference not having sterling on the pitch makes! welbeck dragged wide 1st half, the ox replaces sterling, welbeck down middle, goal\"',\n '\"dear lovely christians, i wish to inform you, tomorrow we got one mass @ 10am as we\\'ll be submitting our parish family day collection!\"',\n '\"to kpop fans, we song along to vocals, 2nd voices, raps, fanchants, do the instruments &amp; even perform its own choreo',\n 'cherie blair is sat on our coach going to the games! #olympics2012',\n 'continued : emmanuel adebayor has not travelled with the squad for our europa league away tie in greece tomorrow evening.',\n \"mario williams is catching hell! he will be exposed on sunday... not like buffalo don't see him 4 who he is already!\",\n '\"kris bryant hurt, joe maddon ejected in today\\'s cubs game, and it\\'s only the 6th inning.',\n '@user last wednesday, when i saw you dressed as robin, all i can think about is \"who\\'s batman? where\\'s the teen titans?\"',\n '@user brock lesnar live from madison square garden sounds like it could just be a live feed of him sat on a chair for 3 hours',\n '@user frank ocean releasing his second album december 31st 2015 on new years eve. heres the interview...',\n '@user @user at da end of da night no girl that roll with me is on da mta! they are above that as long as i can afford that!',\n '@user scotus based their argument on the 14th. no matter how you stretch it race was not involved.',\n \"my mom's over here tryna tell me that we're taking the cahsee tomorrow ._. nigga it's only the second month of school.. #slowyourroll\",\n '\"rahul gandhi held indian citizenship from day one: congress: new delhi, nov 18: dismissing bjp leader subraman...',\n '\"i\\'m going to paramore at rock im park in nuremburg, germany - jun 8',\n 'happy birthday nick j  may you live long and happy :)',\n 'echo: sex offender is warned he may face jail over offences #dorset',\n 'i hope bernie sanders is a sun and the other two are shooting stars or black holes.',\n '\"shows how much you can trust drivers answering these questions. alonso was still saying on monday that ferrari split is \"\"\"\"just a rumor.\"\"\"\" #f1\"',\n 'who else is going to the chris brown tour this thursday #chrisbrown#onehellofanighttour',\n 'your inspirational quotes on twitter/feb never really got to me. but oh damn ur pics of them on ig have truly inspired me. #idiots\"',\n 'another beauty of a day in athens\\\\u002c greece. i trust you\\\\u2019ll have an exceptional friday wherever in the world you are. much love.',\n '\"another great night in split, off to hvar on the 8:30 ferry tomorrow morning... dreading the packing but excited to get there!\"',\n \"@user and im seeing ed live this saturday at b'ham nia! it would be amazing to get the book signed. thanks for putting it together\",\n '\"church tonight, who will you bring????\"',\n 'q_q today was the day that naruto shippuden: uns4 was suppose to come out. whyyyyyyy did they push it all the way to jan???? hello',\n 'pics of the march fourth marching band at the oregon country fair closing out the show sunday night. their...',\n 'the audio booth is ready to blow the roof off the comcast center tomorrow! are you? #mdmadness',\n 'welllll who wants to see ed sheeran with me on the 17th????',\n 'goaldotcom: premier league team of the week: van persie & aguero both star after city & arsenal wins',\n \"the hitchhiker's guide to the galaxy game - 30th anniversary edition need to sign up with the bbc online.\",\n \"i'm seeing ed sheeran on wednesday in miami so if you wanna meet up or say hi hmu!\",\n '\"chuck close shares his best-kept secrets with @user on the eve of his new show, opening thursday @user',\n 'vermaelen the hero for barca: thomas vermaelen was the unlikely hero as barcelona laboured to a 1-0 home win over malaga on saturday ...',\n '@user i\\\\u2019m sick with something ill be at school on monday though',\n '\"there\\'s something about friday night lights, you just get chills thinking about it .\"',\n 'googled the snake i stepped over on the trail sunday. baby timber rattler. so time to google \"snake-proof hiking boots.\"',\n '@user also, his anger against hindus are justified but couldn\\'t get why he was so anti islam..may be he was just fed up of religions\"',\n 'ricky ponting and i now have something in common. today he passed 23\\\\u002c000 1st class runs. last night at training\\\\u002c i was hit for 23\\\\u002c000 runs.',\n 'ted nugent talks to us about #hunting and other stuff he\\\\u2019s got on his mind @user this saturday at 7am on the great outdoors\\\\u002c #nuge',\n 'check out newsha tavakolian at the saatchi gallery in london. her photos of iran may interest some of you!',\n \"mansbridge destroyed justin tonite the polls for the lib's should tank tomorrow! wake up people he is not ready!!\",\n 'for the ones tomorrow sunday in milan (italy): aperitif and evening at fiat open lounge:',\n '\"j\\'regarde des infos sur ragnarok (le film) &amp;bon: \"\"thor will make it out of the third movie[..]loki, on the other hand may not be so lucky.\"\"\"',\n '@user donald trump said the same thing about the tax rate.  fact check said he was a liar \"pant of fire\"',\n '\"if you\\\\u2019re calling this little thing right here a \\\\\"\"\"\"party\\\\\"\"\"\" then friday night\\\\u2019s gonna be project x\\\\u002c y\\\\u002c & z.\"',\n '\"love this vid!! 1st time i\\\\u2019ve seen it!--- jules explains it all - david archuleta sings \\\\\"\"\"\"nandito ako.\\\\\"\"\"\" via @user',\n '@user @user not just christians, you are in the prayers of \"\"all of us\"\" humans.may you stay safe and be free soon!god bless.\"',\n 'happy birthday @user ! national bieber day . now he\\\\u2019s 18th years\\\\u002c but he\\\\u2019s #stillkidrauhl #indonesiasayshbdforjustinbieber',\n '\"if you put one over the plate he\\'s gonna fuck you up  called it, kris bryant with his 21st\"',\n 'good luck to girls tennis as the take on south torrance today on 1st round cif! #golions2012',\n '\"\\\\\"\"hey\\\\u002c you\\\\u2019re missing beauty and the beast\\\\u002c vampire diaries & grey\\\\u2019s anatomy right now on tv. saturday is merlin\\\\\"\" - @user #sisterlife\"',\n 'decided to watch rick and morty will probably watch naruto tomorrow such a good movie hits ya right in the feels',\n \"first hasek now modano want to come back...who's next mario lemieux for the 4th time!\",\n '@user isn\\\\u2019t it just!  staying in and watching the lovely james martin on saturday kitchen. great pumpkin soup recipe to warm u up',\n '@user how was your day today? did you enjoy watching softball. we missed you on tiger woods',\n 'and to think i wrote this dustin johnson tweet after the second round of the british open',\n \"just turned the corner into ghetto n #roma 1st thing i saw a group of muslims! now that's tourism for ya. it's a sm world after all #peace\",\n \"be sure to look for nash's new video with skylynn tomorrow #nashnewvideo love you @user\",\n 'who wants to be my date to the white sox vs red sox game tuesday',\n \"at long last, lexus has developed a hoverboard, the 'slide,' to be tested in public for the first time on wed.\",\n 'i noticed all the huddlestone haters were conspicuous by their absence yesterday\\\\u002c particularly when he assisted bale for the 1st goal #thfc',\n 'unexpected development-- saw ant-man on saturday night in london. it was surprisingly charming. i actually quite enjoyed it.',\n '\"tomorrow is star wars day! new movie! and is @user and @user birthday! great, isn\\'t? @user',\n 'sun is shining... bob marley on the radio... hiya monday!',\n '\"hope, love &amp; laughter; warmth, prosperity &amp; joy; a fragrant bouquet filled with life; you may enjoy! a very happy eid -\"',\n \"'frank ocean' appeared on sunday 16 at the 11th place in the top20 of dallas-ft. worth's trends: #trndnl\",\n '\"also may take years to figure out if the song reaching #1 or john cena co-opting \"\"i can\\'t feel my face\"\" as his signature tagline is stranger\"',\n \"yakub death may be unfortunate bt we shud respect sc's decision n not vitiate atmosphere in the name of religion #yakubtohang #yakubverdict\",\n 'its the 1st video without zayn and its still perf #dragmedownmusicvideo',\n \"has anyone ever seen @user and iron maiden's bruce dickinson together in the same room?\",\n 'why does everyone want to give eli manning credit for every win. the truth is sunday\\\\u2019s game should have been a blowout.',\n \"the pics were taken on a 2004 nokia, and it's really blurry and may induce cataracts. just a heads up.\",\n \"i think this was the first night of louis with briana? (that's not her tho) i saved it on april 17 but i dk\",\n 'on monday im going to eat so much you might as well call me jordan and ally. im so fucking hungry.',\n '\"be prepared to listen about nicki and miley tomorrow at school, or maybe kanye\"',\n '@user i just wonder how peter is the 1st pope when the romans crucified him 200 years before christianity was legalized in rome',\n \"sky : melo and perisic are set to debut in the inter shirt against milan in next sunday's derby. icardi is also probable.\",\n '@user you really want to go there? he had a gr8 milan team from 03 to 06. he finished 1st, 2nd and 2nd to a team that was relegated 4..\"',\n '\"christianity is nothing else but the imitation of god\\\\u2019s nature.  we seek a relationship with god through jesus ...\\\\\"\"\"\"lord that i may see\\\\\"\"\"\".\"',\n '\"wrap-up: broncos 34, saints 14:  thoughts on the new orleans saints\\' 34-14 loss to the denver broncos on sunday ...',\n \"@user big ups sl!!! copped the 10.5 gucci's missed out friday!!!\",\n '\"officially going to the kenny chesney, jason aldean, brantley gilbert, and cole swindal concert on saturday!! excited beyond words!!\"',\n 'join @user now for boosted 4/1 arsenal &amp; chelsea both to win in the #bpl tomorrow. #afc #cfc',\n 'snoop dogg is playing at the state fair on wednesday and i wanna go soooooo bad',\n '@user hi, i have a sneaking suspicion barack obama and sarah palin may be part of the dkeu. can you find out, please?',\n '2nd half about to start. no subs for the red stars to begin the half. wny kicking off. 45 to go....',\n '\"six good reviews for the new deus ex. i\\'m going to pre-order it today, i\\'ve seen enough coverage to know it\\'s going to be worth a look.\"',\n 'bob marley playing in the lab. happy saturday!!']"
     },
     "metadata": {}
    }
   ]
  },
  {
   "cell_type": "code",
   "metadata": {
    "tags": [],
    "cell_id": "00026-ae0d622a-9ae7-46ed-87a4-b858e7d0cca6",
    "deepnote_to_be_reexecuted": false,
    "source_hash": "ffd6fbad",
    "execution_start": 1622664571520,
    "execution_millis": 49,
    "deepnote_cell_type": "code"
   },
   "source": "#Loading in each group members annotations along with the published labels\nman_anno1 = read_file(\"/work/tweeteval/datasets/manual_annotation/ano.txt\")\nman_anno2 = read_file(\"/work/tweeteval/datasets/manual_annotation/man_anno.txt\")\nman_anno3 = read_file(\"/work/tweeteval/datasets/manual_annotation/man_anno_jr.txt\")\nman_anno4 = read_file(\"/work/tweeteval/datasets/manual_annotation/tweet.TXT\")\ndata_anno = senti_train_labels[50:150]\n\n#Creating a dictionary in order to create a dataframe\nd = {'anno1':man_anno1,'anno2':man_anno2,'anno3':man_anno3,'anno4':man_anno4, 'true_labels':data_anno}\nannotations = pd.DataFrame(data=d)\nannotations\n\n\n",
   "execution_count": 20,
   "outputs": [
    {
     "output_type": "execute_result",
     "execution_count": 20,
     "data": {
      "application/vnd.deepnote.dataframe.v2+json": {
       "row_count": 100,
       "column_count": 5,
       "columns": [
        {
         "name": "anno1",
         "dtype": "object",
         "stats": {
          "unique_count": 3,
          "nan_count": 0,
          "categories": [
           {
            "name": "1",
            "count": 64
           },
           {
            "name": "2",
            "count": 26
           },
           {
            "name": "0",
            "count": 10
           }
          ]
         }
        },
        {
         "name": "anno2",
         "dtype": "object",
         "stats": {
          "unique_count": 3,
          "nan_count": 0,
          "categories": [
           {
            "name": "1",
            "count": 49
           },
           {
            "name": "2",
            "count": 37
           },
           {
            "name": "0",
            "count": 14
           }
          ]
         }
        },
        {
         "name": "anno3",
         "dtype": "object",
         "stats": {
          "unique_count": 3,
          "nan_count": 0,
          "categories": [
           {
            "name": "1",
            "count": 49
           },
           {
            "name": "2",
            "count": 32
           },
           {
            "name": "0",
            "count": 19
           }
          ]
         }
        },
        {
         "name": "anno4",
         "dtype": "object",
         "stats": {
          "unique_count": 3,
          "nan_count": 0,
          "categories": [
           {
            "name": "1",
            "count": 47
           },
           {
            "name": "2",
            "count": 37
           },
           {
            "name": "0",
            "count": 16
           }
          ]
         }
        },
        {
         "name": "true_labels",
         "dtype": "object",
         "stats": {
          "unique_count": 3,
          "nan_count": 0,
          "categories": [
           {
            "name": "1",
            "count": 45
           },
           {
            "name": "2",
            "count": 37
           },
           {
            "name": "0",
            "count": 18
           }
          ]
         }
        },
        {
         "name": "_deepnote_index_column",
         "dtype": "int64"
        }
       ],
       "rows_top": [
        {
         "anno1": "2",
         "anno2": "0",
         "anno3": "2",
         "anno4": "1",
         "true_labels": "0",
         "_deepnote_index_column": 0
        },
        {
         "anno1": "2",
         "anno2": "2",
         "anno3": "1",
         "anno4": "1",
         "true_labels": "2",
         "_deepnote_index_column": 1
        },
        {
         "anno1": "1",
         "anno2": "2",
         "anno3": "2",
         "anno4": "1",
         "true_labels": "1",
         "_deepnote_index_column": 2
        },
        {
         "anno1": "1",
         "anno2": "1",
         "anno3": "2",
         "anno4": "2",
         "true_labels": "2",
         "_deepnote_index_column": 3
        },
        {
         "anno1": "1",
         "anno2": "1",
         "anno3": "1",
         "anno4": "1",
         "true_labels": "1",
         "_deepnote_index_column": 4
        },
        {
         "anno1": "2",
         "anno2": "2",
         "anno3": "1",
         "anno4": "2",
         "true_labels": "2",
         "_deepnote_index_column": 5
        },
        {
         "anno1": "1",
         "anno2": "1",
         "anno3": "0",
         "anno4": "2",
         "true_labels": "1",
         "_deepnote_index_column": 6
        },
        {
         "anno1": "1",
         "anno2": "1",
         "anno3": "1",
         "anno4": "2",
         "true_labels": "1",
         "_deepnote_index_column": 7
        },
        {
         "anno1": "1",
         "anno2": "1",
         "anno3": "1",
         "anno4": "1",
         "true_labels": "1",
         "_deepnote_index_column": 8
        },
        {
         "anno1": "0",
         "anno2": "0",
         "anno3": "0",
         "anno4": "0",
         "true_labels": "0",
         "_deepnote_index_column": 9
        },
        {
         "anno1": "0",
         "anno2": "0",
         "anno3": "0",
         "anno4": "0",
         "true_labels": "0",
         "_deepnote_index_column": 10
        },
        {
         "anno1": "1",
         "anno2": "2",
         "anno3": "1",
         "anno4": "0",
         "true_labels": "2",
         "_deepnote_index_column": 11
        },
        {
         "anno1": "2",
         "anno2": "2",
         "anno3": "2",
         "anno4": "0",
         "true_labels": "2",
         "_deepnote_index_column": 12
        },
        {
         "anno1": "1",
         "anno2": "1",
         "anno3": "1",
         "anno4": "2",
         "true_labels": "2",
         "_deepnote_index_column": 13
        },
        {
         "anno1": "2",
         "anno2": "2",
         "anno3": "1",
         "anno4": "2",
         "true_labels": "1",
         "_deepnote_index_column": 14
        },
        {
         "anno1": "1",
         "anno2": "1",
         "anno3": "1",
         "anno4": "2",
         "true_labels": "1",
         "_deepnote_index_column": 15
        },
        {
         "anno1": "0",
         "anno2": "0",
         "anno3": "0",
         "anno4": "1",
         "true_labels": "0",
         "_deepnote_index_column": 16
        },
        {
         "anno1": "1",
         "anno2": "1",
         "anno3": "0",
         "anno4": "1",
         "true_labels": "0",
         "_deepnote_index_column": 17
        },
        {
         "anno1": "1",
         "anno2": "1",
         "anno3": "1",
         "anno4": "0",
         "true_labels": "1",
         "_deepnote_index_column": 18
        },
        {
         "anno1": "1",
         "anno2": "1",
         "anno3": "0",
         "anno4": "0",
         "true_labels": "1",
         "_deepnote_index_column": 19
        },
        {
         "anno1": "1",
         "anno2": "1",
         "anno3": "1",
         "anno4": "1",
         "true_labels": "1",
         "_deepnote_index_column": 20
        },
        {
         "anno1": "1",
         "anno2": "1",
         "anno3": "1",
         "anno4": "1",
         "true_labels": "2",
         "_deepnote_index_column": 21
        },
        {
         "anno1": "1",
         "anno2": "1",
         "anno3": "1",
         "anno4": "1",
         "true_labels": "1",
         "_deepnote_index_column": 22
        },
        {
         "anno1": "0",
         "anno2": "0",
         "anno3": "1",
         "anno4": "0",
         "true_labels": "0",
         "_deepnote_index_column": 23
        },
        {
         "anno1": "1",
         "anno2": "1",
         "anno3": "1",
         "anno4": "1",
         "true_labels": "1",
         "_deepnote_index_column": 24
        },
        {
         "anno1": "1",
         "anno2": "1",
         "anno3": "1",
         "anno4": "1",
         "true_labels": "1",
         "_deepnote_index_column": 25
        },
        {
         "anno1": "2",
         "anno2": "2",
         "anno3": "2",
         "anno4": "0",
         "true_labels": "2",
         "_deepnote_index_column": 26
        },
        {
         "anno1": "1",
         "anno2": "0",
         "anno3": "0",
         "anno4": "2",
         "true_labels": "0",
         "_deepnote_index_column": 27
        },
        {
         "anno1": "1",
         "anno2": "1",
         "anno3": "1",
         "anno4": "1",
         "true_labels": "2",
         "_deepnote_index_column": 28
        },
        {
         "anno1": "1",
         "anno2": "0",
         "anno3": "0",
         "anno4": "2",
         "true_labels": "1",
         "_deepnote_index_column": 29
        },
        {
         "anno1": "1",
         "anno2": "1",
         "anno3": "1",
         "anno4": "0",
         "true_labels": "2",
         "_deepnote_index_column": 30
        },
        {
         "anno1": "0",
         "anno2": "0",
         "anno3": "0",
         "anno4": "2",
         "true_labels": "0",
         "_deepnote_index_column": 31
        },
        {
         "anno1": "2",
         "anno2": "2",
         "anno3": "2",
         "anno4": "2",
         "true_labels": "2",
         "_deepnote_index_column": 32
        },
        {
         "anno1": "2",
         "anno2": "2",
         "anno3": "2",
         "anno4": "2",
         "true_labels": "2",
         "_deepnote_index_column": 33
        },
        {
         "anno1": "2",
         "anno2": "2",
         "anno3": "2",
         "anno4": "1",
         "true_labels": "2",
         "_deepnote_index_column": 34
        },
        {
         "anno1": "1",
         "anno2": "1",
         "anno3": "1",
         "anno4": "0",
         "true_labels": "1",
         "_deepnote_index_column": 35
        },
        {
         "anno1": "1",
         "anno2": "0",
         "anno3": "0",
         "anno4": "1",
         "true_labels": "0",
         "_deepnote_index_column": 36
        },
        {
         "anno1": "1",
         "anno2": "1",
         "anno3": "1",
         "anno4": "2",
         "true_labels": "1",
         "_deepnote_index_column": 37
        },
        {
         "anno1": "1",
         "anno2": "2",
         "anno3": "2",
         "anno4": "2",
         "true_labels": "2",
         "_deepnote_index_column": 38
        },
        {
         "anno1": "1",
         "anno2": "1",
         "anno3": "1",
         "anno4": "2",
         "true_labels": "2",
         "_deepnote_index_column": 39
        },
        {
         "anno1": "1",
         "anno2": "1",
         "anno3": "1",
         "anno4": "1",
         "true_labels": "2",
         "_deepnote_index_column": 40
        },
        {
         "anno1": "1",
         "anno2": "1",
         "anno3": "1",
         "anno4": "1",
         "true_labels": "1",
         "_deepnote_index_column": 41
        },
        {
         "anno1": "1",
         "anno2": "2",
         "anno3": "2",
         "anno4": "1",
         "true_labels": "2",
         "_deepnote_index_column": 42
        },
        {
         "anno1": "1",
         "anno2": "1",
         "anno3": "1",
         "anno4": "1",
         "true_labels": "1",
         "_deepnote_index_column": 43
        },
        {
         "anno1": "1",
         "anno2": "2",
         "anno3": "2",
         "anno4": "0",
         "true_labels": "2",
         "_deepnote_index_column": 44
        },
        {
         "anno1": "1",
         "anno2": "1",
         "anno3": "0",
         "anno4": "2",
         "true_labels": "0",
         "_deepnote_index_column": 45
        },
        {
         "anno1": "1",
         "anno2": "2",
         "anno3": "2",
         "anno4": "1",
         "true_labels": "2",
         "_deepnote_index_column": 46
        },
        {
         "anno1": "1",
         "anno2": "1",
         "anno3": "1",
         "anno4": "0",
         "true_labels": "1",
         "_deepnote_index_column": 47
        },
        {
         "anno1": "0",
         "anno2": "1",
         "anno3": "1",
         "anno4": "1",
         "true_labels": "0",
         "_deepnote_index_column": 48
        },
        {
         "anno1": "1",
         "anno2": "1",
         "anno3": "2",
         "anno4": "1",
         "true_labels": "1",
         "_deepnote_index_column": 49
        },
        {
         "anno1": "1",
         "anno2": "1",
         "anno3": "1",
         "anno4": "1",
         "true_labels": "1",
         "_deepnote_index_column": 50
        },
        {
         "anno1": "1",
         "anno2": "2",
         "anno3": "2",
         "anno4": "1",
         "true_labels": "1",
         "_deepnote_index_column": 51
        },
        {
         "anno1": "0",
         "anno2": "0",
         "anno3": "0",
         "anno4": "1",
         "true_labels": "1",
         "_deepnote_index_column": 52
        },
        {
         "anno1": "1",
         "anno2": "1",
         "anno3": "1",
         "anno4": "1",
         "true_labels": "1",
         "_deepnote_index_column": 53
        },
        {
         "anno1": "1",
         "anno2": "1",
         "anno3": "1",
         "anno4": "1",
         "true_labels": "1",
         "_deepnote_index_column": 54
        },
        {
         "anno1": "0",
         "anno2": "0",
         "anno3": "0",
         "anno4": "0",
         "true_labels": "1",
         "_deepnote_index_column": 55
        },
        {
         "anno1": "1",
         "anno2": "2",
         "anno3": "2",
         "anno4": "2",
         "true_labels": "1",
         "_deepnote_index_column": 56
        },
        {
         "anno1": "2",
         "anno2": "2",
         "anno3": "1",
         "anno4": "2",
         "true_labels": "2",
         "_deepnote_index_column": 57
        },
        {
         "anno1": "2",
         "anno2": "2",
         "anno3": "2",
         "anno4": "2",
         "true_labels": "2",
         "_deepnote_index_column": 58
        },
        {
         "anno1": "2",
         "anno2": "2",
         "anno3": "2",
         "anno4": "2",
         "true_labels": "2",
         "_deepnote_index_column": 59
        },
        {
         "anno1": "0",
         "anno2": "1",
         "anno3": "0",
         "anno4": "1",
         "true_labels": "0",
         "_deepnote_index_column": 60
        },
        {
         "anno1": "2",
         "anno2": "2",
         "anno3": "2",
         "anno4": "2",
         "true_labels": "2",
         "_deepnote_index_column": 61
        },
        {
         "anno1": "1",
         "anno2": "1",
         "anno3": "1",
         "anno4": "1",
         "true_labels": "0",
         "_deepnote_index_column": 62
        },
        {
         "anno1": "2",
         "anno2": "2",
         "anno3": "2",
         "anno4": "2",
         "true_labels": "2",
         "_deepnote_index_column": 63
        },
        {
         "anno1": "1",
         "anno2": "1",
         "anno3": "2",
         "anno4": "2",
         "true_labels": "1",
         "_deepnote_index_column": 64
        },
        {
         "anno1": "2",
         "anno2": "2",
         "anno3": "1",
         "anno4": "2",
         "true_labels": "2",
         "_deepnote_index_column": 65
        },
        {
         "anno1": "1",
         "anno2": "2",
         "anno3": "1",
         "anno4": "2",
         "true_labels": "1",
         "_deepnote_index_column": 66
        },
        {
         "anno1": "1",
         "anno2": "1",
         "anno3": "1",
         "anno4": "1",
         "true_labels": "1",
         "_deepnote_index_column": 67
        },
        {
         "anno1": "1",
         "anno2": "2",
         "anno3": "0",
         "anno4": "2",
         "true_labels": "1",
         "_deepnote_index_column": 68
        },
        {
         "anno1": "1",
         "anno2": "2",
         "anno3": "2",
         "anno4": "1",
         "true_labels": "2",
         "_deepnote_index_column": 69
        },
        {
         "anno1": "1",
         "anno2": "2",
         "anno3": "2",
         "anno4": "1",
         "true_labels": "1",
         "_deepnote_index_column": 70
        },
        {
         "anno1": "1",
         "anno2": "2",
         "anno3": "2",
         "anno4": "1",
         "true_labels": "2",
         "_deepnote_index_column": 71
        },
        {
         "anno1": "1",
         "anno2": "1",
         "anno3": "0",
         "anno4": "0",
         "true_labels": "0",
         "_deepnote_index_column": 72
        },
        {
         "anno1": "2",
         "anno2": "2",
         "anno3": "2",
         "anno4": "2",
         "true_labels": "2",
         "_deepnote_index_column": 73
        },
        {
         "anno1": "2",
         "anno2": "2",
         "anno3": "2",
         "anno4": "2",
         "true_labels": "2",
         "_deepnote_index_column": 74
        },
        {
         "anno1": "2",
         "anno2": "2",
         "anno3": "2",
         "anno4": "2",
         "true_labels": "2",
         "_deepnote_index_column": 75
        },
        {
         "anno1": "2",
         "anno2": "2",
         "anno3": "2",
         "anno4": "2",
         "true_labels": "2",
         "_deepnote_index_column": 76
        },
        {
         "anno1": "1",
         "anno2": "1",
         "anno3": "1",
         "anno4": "1",
         "true_labels": "1",
         "_deepnote_index_column": 77
        },
        {
         "anno1": "2",
         "anno2": "1",
         "anno3": "1",
         "anno4": "1",
         "true_labels": "1",
         "_deepnote_index_column": 78
        },
        {
         "anno1": "2",
         "anno2": "0",
         "anno3": "1",
         "anno4": "0",
         "true_labels": "0",
         "_deepnote_index_column": 79
        },
        {
         "anno1": "1",
         "anno2": "2",
         "anno3": "2",
         "anno4": "2",
         "true_labels": "2",
         "_deepnote_index_column": 80
        },
        {
         "anno1": "1",
         "anno2": "1",
         "anno3": "1",
         "anno4": "1",
         "true_labels": "1",
         "_deepnote_index_column": 81
        },
        {
         "anno1": "1",
         "anno2": "0",
         "anno3": "0",
         "anno4": "0",
         "true_labels": "1",
         "_deepnote_index_column": 82
        },
        {
         "anno1": "1",
         "anno2": "1",
         "anno3": "0",
         "anno4": "1",
         "true_labels": "0",
         "_deepnote_index_column": 83
        },
        {
         "anno1": "0",
         "anno2": "1",
         "anno3": "1",
         "anno4": "1",
         "true_labels": "1",
         "_deepnote_index_column": 84
        },
        {
         "anno1": "1",
         "anno2": "1",
         "anno3": "1",
         "anno4": "1",
         "true_labels": "1",
         "_deepnote_index_column": 85
        },
        {
         "anno1": "1",
         "anno2": "1",
         "anno3": "1",
         "anno4": "1",
         "true_labels": "1",
         "_deepnote_index_column": 86
        },
        {
         "anno1": "1",
         "anno2": "1",
         "anno3": "1",
         "anno4": "1",
         "true_labels": "1",
         "_deepnote_index_column": 87
        },
        {
         "anno1": "1",
         "anno2": "1",
         "anno3": "1",
         "anno4": "1",
         "true_labels": "1",
         "_deepnote_index_column": 88
        },
        {
         "anno1": "1",
         "anno2": "0",
         "anno3": "0",
         "anno4": "1",
         "true_labels": "1",
         "_deepnote_index_column": 89
        },
        {
         "anno1": "1",
         "anno2": "1",
         "anno3": "1",
         "anno4": "1",
         "true_labels": "1",
         "_deepnote_index_column": 90
        },
        {
         "anno1": "1",
         "anno2": "1",
         "anno3": "1",
         "anno4": "1",
         "true_labels": "0",
         "_deepnote_index_column": 91
        },
        {
         "anno1": "2",
         "anno2": "2",
         "anno3": "1",
         "anno4": "2",
         "true_labels": "1",
         "_deepnote_index_column": 92
        },
        {
         "anno1": "2",
         "anno2": "2",
         "anno3": "2",
         "anno4": "2",
         "true_labels": "2",
         "_deepnote_index_column": 93
        },
        {
         "anno1": "1",
         "anno2": "1",
         "anno3": "1",
         "anno4": "1",
         "true_labels": "2",
         "_deepnote_index_column": 94
        },
        {
         "anno1": "2",
         "anno2": "2",
         "anno3": "2",
         "anno4": "2",
         "true_labels": "2",
         "_deepnote_index_column": 95
        },
        {
         "anno1": "1",
         "anno2": "1",
         "anno3": "1",
         "anno4": "1",
         "true_labels": "0",
         "_deepnote_index_column": 96
        },
        {
         "anno1": "1",
         "anno2": "1",
         "anno3": "1",
         "anno4": "2",
         "true_labels": "1",
         "_deepnote_index_column": 97
        },
        {
         "anno1": "2",
         "anno2": "2",
         "anno3": "2",
         "anno4": "2",
         "true_labels": "2",
         "_deepnote_index_column": 98
        },
        {
         "anno1": "2",
         "anno2": "2",
         "anno3": "2",
         "anno4": "2",
         "true_labels": "2",
         "_deepnote_index_column": 99
        }
       ],
       "rows_bottom": null
      },
      "text/plain": "   anno1 anno2 anno3 anno4 true_labels\n0      2     0     2     1           0\n1      2     2     1     1           2\n2      1     2     2     1           1\n3      1     1     2     2           2\n4      1     1     1     1           1\n..   ...   ...   ...   ...         ...\n95     2     2     2     2           2\n96     1     1     1     1           0\n97     1     1     1     2           1\n98     2     2     2     2           2\n99     2     2     2     2           2\n\n[100 rows x 5 columns]",
      "text/html": "<div>\n<style scoped>\n    .dataframe tbody tr th:only-of-type {\n        vertical-align: middle;\n    }\n\n    .dataframe tbody tr th {\n        vertical-align: top;\n    }\n\n    .dataframe thead th {\n        text-align: right;\n    }\n</style>\n<table border=\"1\" class=\"dataframe\">\n  <thead>\n    <tr style=\"text-align: right;\">\n      <th></th>\n      <th>anno1</th>\n      <th>anno2</th>\n      <th>anno3</th>\n      <th>anno4</th>\n      <th>true_labels</th>\n    </tr>\n  </thead>\n  <tbody>\n    <tr>\n      <th>0</th>\n      <td>2</td>\n      <td>0</td>\n      <td>2</td>\n      <td>1</td>\n      <td>0</td>\n    </tr>\n    <tr>\n      <th>1</th>\n      <td>2</td>\n      <td>2</td>\n      <td>1</td>\n      <td>1</td>\n      <td>2</td>\n    </tr>\n    <tr>\n      <th>2</th>\n      <td>1</td>\n      <td>2</td>\n      <td>2</td>\n      <td>1</td>\n      <td>1</td>\n    </tr>\n    <tr>\n      <th>3</th>\n      <td>1</td>\n      <td>1</td>\n      <td>2</td>\n      <td>2</td>\n      <td>2</td>\n    </tr>\n    <tr>\n      <th>4</th>\n      <td>1</td>\n      <td>1</td>\n      <td>1</td>\n      <td>1</td>\n      <td>1</td>\n    </tr>\n    <tr>\n      <th>...</th>\n      <td>...</td>\n      <td>...</td>\n      <td>...</td>\n      <td>...</td>\n      <td>...</td>\n    </tr>\n    <tr>\n      <th>95</th>\n      <td>2</td>\n      <td>2</td>\n      <td>2</td>\n      <td>2</td>\n      <td>2</td>\n    </tr>\n    <tr>\n      <th>96</th>\n      <td>1</td>\n      <td>1</td>\n      <td>1</td>\n      <td>1</td>\n      <td>0</td>\n    </tr>\n    <tr>\n      <th>97</th>\n      <td>1</td>\n      <td>1</td>\n      <td>1</td>\n      <td>2</td>\n      <td>1</td>\n    </tr>\n    <tr>\n      <th>98</th>\n      <td>2</td>\n      <td>2</td>\n      <td>2</td>\n      <td>2</td>\n      <td>2</td>\n    </tr>\n    <tr>\n      <th>99</th>\n      <td>2</td>\n      <td>2</td>\n      <td>2</td>\n      <td>2</td>\n      <td>2</td>\n    </tr>\n  </tbody>\n</table>\n<p>100 rows × 5 columns</p>\n</div>"
     },
     "metadata": {}
    }
   ]
  },
  {
   "cell_type": "markdown",
   "source": "The Inter-Annotator Agreement(IAA) is a measurement of how well two or more annotators can take the same annotation decision for a specific category.  We have used Cohen's kappa coefficient which statistically measures the reliability between annotators for categorical data. It does take into account the possibility of the agreement to occur by pure chance. ",
   "metadata": {
    "tags": [],
    "cell_id": "00030-164293c7-d1bc-4a33-9c1f-77664a538e8d",
    "deepnote_cell_type": "text-cell-p"
   }
  },
  {
   "cell_type": "code",
   "source": "print(\"Cohen kappa score for the the first and second manual annotations is: \",  cohen_kappa_score(annotations['anno1'], annotations['anno2']))\nprint(\"Cohen kappa score for the the first and third manual annotations is: \",  cohen_kappa_score(annotations['anno1'], annotations['anno3']))\nprint(\"Cohen kappa score for the the first and fourth manual annotations is: \",  cohen_kappa_score(annotations['anno1'], annotations['anno4']))\nprint('The average of Cohen kappa score for the 4 manual annotations is:',round((cohen_kappa_score(annotations['anno1'], annotations['anno2']) + cohen_kappa_score(annotations['anno1'], annotations['anno3']) + cohen_kappa_score(annotations['anno1'], annotations['anno4']) + cohen_kappa_score(annotations['anno2'], annotations['anno3']) + cohen_kappa_score(annotations['anno2'], annotations['anno4']) + cohen_kappa_score(annotations['anno3'], annotations['anno4']))/6,4))\n\nprint('Cohen kappa score for the first and true labels annotations is: ',cohen_kappa_score(annotations['anno1'], annotations['true_labels']) )\nprint('Cohen kappa score for the second and true labels annotations is: ',  cohen_kappa_score(annotations['anno2'], annotations['true_labels']))\nprint('Cohen kappa score for the third and true labels is: ', cohen_kappa_score(annotations['anno3'], annotations['true_labels']))\nprint('Cohen kappa score for the fourth and true labels is:', cohen_kappa_score(annotations['anno4'], annotations['true_labels']))",
   "metadata": {
    "tags": [],
    "cell_id": "00031-677a08ef-cab3-4577-8dfd-bd8ec86b1397",
    "deepnote_to_be_reexecuted": false,
    "source_hash": "3615ae35",
    "execution_start": 1622664571571,
    "execution_millis": 29,
    "deepnote_cell_type": "code"
   },
   "outputs": [
    {
     "name": "stdout",
     "text": "Cohen kappa score for the the first and second manual annotations is:  0.5661228740020826\nCohen kappa score for the the first and third manual annotations is:  0.3666552550496406\nCohen kappa score for the the first and fourth manual annotations is:  0.3356047700170358\nThe average of Cohen kappa score for the 4 manual annotations is: 0.4299\nCohen kappa score for the first and true labels annotations is:  0.4479759116761459\nCohen kappa score for the second and true labels annotations is:  0.5140913508260447\nCohen kappa score for the third and true labels is:  0.47360025522411875\nCohen kappa score for the fourth and true labels is: 0.26140012845215155\n",
     "output_type": "stream"
    }
   ],
   "execution_count": 21
  },
  {
   "cell_type": "markdown",
   "source": "The Cohen's kappa score for the 4 manual annotators and the test labels ranges from 0.2614 to .5140, while the average for the 4 gives .4299.  It is important to mention that the annotators did not take the same decision and the categories can not be strongly categorized since linguistics are hard for a machine to understand. In conclusion, the Cohen's kappa score ranging from .26 to .51 means a fair to moderate inter-annotator agreement. ",
   "metadata": {
    "tags": [],
    "cell_id": "00034-79dfac71-d64c-4eab-b631-f6a9f79ad5a4",
    "deepnote_cell_type": "text-cell-p"
   }
  },
  {
   "cell_type": "markdown",
   "source": "<h2>TASK 4 - Automatic Prediction <h2>",
   "metadata": {
    "tags": [],
    "cell_id": "00030-981ddf2a-f7d9-4768-95f8-ccfb47867096",
    "deepnote_cell_type": "markdown"
   }
  },
  {
   "cell_type": "markdown",
   "source": "<h3>Features (Tf-Idf and POS-tags)<h3>",
   "metadata": {
    "tags": [],
    "cell_id": "00028-7cff9595-7e9f-4be7-922c-d018653d94cc",
    "deepnote_cell_type": "markdown"
   }
  },
  {
   "cell_type": "code",
   "metadata": {
    "tags": [],
    "cell_id": "00029-d7b23c2f-74b9-4d10-a62c-4725a3e88ce2",
    "deepnote_to_be_reexecuted": false,
    "source_hash": "45381b82",
    "execution_start": 1622664571609,
    "execution_millis": 1,
    "deepnote_cell_type": "code"
   },
   "source": "# stopwords = nltk.corpus.stopwords.words(\"english\")\n\nstemmer = PorterStemmer() # https://tartarus.org/martin/PorterStemmer/\n\n\n\ndef get_vectorizer_transform(docs, vectorizer, debug=False, nameOfVectorizer=\"\"):\n    M = vectorizer.transform(docs).toarray()\n    if debug:\n        print(\"Shape of M (\",nameOfVectorizer,\"):\", M.shape)\n    return M\n\ndef get_pos_tags(docs, vectorizer, debug=False):\n    #Get POS tags for tweets and save as a string\n    doc_tags = []\n    for d in docs:\n        tokens = tokenize(preprocess(d))\n        tags = nltk.pos_tag(tokens)\n        tag_list = [x[1] for x in tags]\n        tag_str = \" \".join(tag_list)\n        doc_tags.append(tag_str)\n\n    #Construct POS TF matrix and get vocab dict\n    pos = vectorizer.transform(pd.Series(doc_tags)).toarray()\n#     pos_vocab = {v:i for i, v in enumerate(pos_vectorizer.get_feature_names())}\n\n    if debug:\n        print(\"Shape of pos matrix: \", pos.shape)\n    \n    return pos",
   "execution_count": 22,
   "outputs": []
  },
  {
   "cell_type": "code",
   "source": "def generateFeatures(train_data, tokenizah, debug=False):\n    # creating vectorizer for Tfidf\n    # has stop words, doesn't have n-gram\n    vectorizer1 = TfidfVectorizer(\n        tokenizer=tokenizah,\n        preprocessor=preprocess,\n        stop_words=\"english\", \n        use_idf=True,\n        smooth_idf=False,\n        norm=None, \n        decode_error='replace',\n        max_features=10000,\n        min_df=5,\n        max_df=0.501\n        ) \n    # has both stop words and n-gram\n    vectorizer2 = TfidfVectorizer(\n        tokenizer=tokenizah,\n        preprocessor=preprocess,\n        stop_words=\"english\", \n        use_idf=True,\n        smooth_idf=False,\n        norm=None, \n        decode_error='replace',\n        max_features=10000,\n        min_df=5,\n        max_df=0.501\n        ) \n\n    #Using TFIDF vectorizer to get token matrix for POS tags \n    pos_vectorizer = TfidfVectorizer(\n        tokenizer=None,\n        lowercase=False,\n        preprocessor=None,\n        ngram_range=(1, 3),\n        stop_words=None, \n        use_idf=False,\n        smooth_idf=False,\n        norm=None, \n        decode_error='replace',\n        max_features=5000,\n        min_df=5,\n        max_df=0.501,\n        )\n    # fitting the vectorizer with the training tweets\n    ####################### aggregate hate_train and senti_train to train these vectorizers and whatnot\n    vectorizer1 = vectorizer1.fit(train_data) \n    vectorizer2 = vectorizer2.fit(train_data) \n#     tfidf_list = [vectorizer1, vectorizer2]\n\n    #Get POS tags for tweets and save as a string\n    doc_tags = []\n    for d in train_data:\n        tokens = tokenizah(preprocess(d))\n        tags = nltk.pos_tag(tokens)\n        tag_list = [x[1] for x in tags]\n        tag_str = \" \".join(tag_list)\n        doc_tags.append(tag_str)\n    # fitting the pos_vectorizer (to the tf-idf of word classes)        \n    pos_vectorizer = pos_vectorizer.fit(pd.Series(doc_tags))\n\n    # count vectorizer\n    countvectorizer = CountVectorizer(tokenizer=tokenizah, ngram_range=(1, 3),decode_error='replace', stop_words='english')\n    countvectorizer = countvectorizer.fit(train_data)\n    \n    ### generate several feature matrices and return them.\n    # term frequency\n    termfrequency = get_vectorizer_transform(train_data, countvectorizer, debug, \"CountVectorizer\")\n    # Tf-Idf1\n    tf_idf1 = get_vectorizer_transform(train_data, vectorizer1, debug, \"Vectorizer1\")\n    # Tf-Idf2\n    tf_idf2 = get_vectorizer_transform(train_data, vectorizer2, debug, \"Vectorizer2\")\n    # POS tags \n    pos_tags = get_pos_tags(train_data, pos_vectorizer, debug)\n    \n    return (termfrequency, tf_idf1, tf_idf2, pos_tags)",
   "metadata": {
    "tags": [],
    "cell_id": "00027-aa1240e0-11b6-41c7-8ab4-8fb0b173ba71",
    "deepnote_to_be_reexecuted": false,
    "source_hash": "1ab570f9",
    "execution_start": 1622664571653,
    "execution_millis": 1,
    "deepnote_cell_type": "code"
   },
   "outputs": [],
   "execution_count": 23
  },
  {
   "cell_type": "code",
   "source": "hate_matlist = generateFeatures(hate_train, tokenize, True)\nsenti_matlist = generateFeatures(senti_train, tokenize, True)",
   "metadata": {
    "tags": [],
    "cell_id": "00028-db5f8101-82c9-4eb4-9301-3d81c6dff475",
    "deepnote_to_be_reexecuted": false,
    "source_hash": "d8b7c44a",
    "execution_start": 1622664571654,
    "execution_millis": 16102,
    "deepnote_cell_type": "code"
   },
   "outputs": [
    {
     "name": "stderr",
     "text": "/shared-libs/python3.7/py/lib/python3.7/site-packages/sklearn/feature_extraction/text.py:489: UserWarning: The parameter 'token_pattern' will not be used since 'tokenizer' is not None'\n  warnings.warn(\"The parameter 'token_pattern' will not be used\"\nShape of M ( CountVectorizer ): (9000, 180467)\nShape of M ( Vectorizer1 ): (9000, 3187)\nShape of M ( Vectorizer2 ): (9000, 3187)\n",
     "output_type": "stream"
    },
    {
     "output_type": "error",
     "ename": "KeyboardInterrupt",
     "evalue": "",
     "traceback": [
      "\u001b[0;31m---------------------------------------------------------------------------\u001b[0m",
      "\u001b[0;31mKeyboardInterrupt\u001b[0m                         Traceback (most recent call last)",
      "\u001b[0;32m<ipython-input-24-7c6eb84d6ae9>\u001b[0m in \u001b[0;36m<module>\u001b[0;34m\u001b[0m\n\u001b[0;32m----> 1\u001b[0;31m \u001b[0mhate_matlist\u001b[0m \u001b[0;34m=\u001b[0m \u001b[0mgenerateFeatures\u001b[0m\u001b[0;34m(\u001b[0m\u001b[0mhate_train\u001b[0m\u001b[0;34m,\u001b[0m \u001b[0mtokenize\u001b[0m\u001b[0;34m,\u001b[0m \u001b[0;32mTrue\u001b[0m\u001b[0;34m)\u001b[0m\u001b[0;34m\u001b[0m\u001b[0;34m\u001b[0m\u001b[0m\n\u001b[0m\u001b[1;32m      2\u001b[0m \u001b[0msenti_matlist\u001b[0m \u001b[0;34m=\u001b[0m \u001b[0mgenerateFeatures\u001b[0m\u001b[0;34m(\u001b[0m\u001b[0msenti_train\u001b[0m\u001b[0;34m,\u001b[0m \u001b[0mtokenize\u001b[0m\u001b[0;34m,\u001b[0m \u001b[0;32mTrue\u001b[0m\u001b[0;34m)\u001b[0m\u001b[0;34m\u001b[0m\u001b[0;34m\u001b[0m\u001b[0m\n",
      "\u001b[0;32m<ipython-input-23-fc99e2e795d2>\u001b[0m in \u001b[0;36mgenerateFeatures\u001b[0;34m(train_data, tokenizah, debug)\u001b[0m\n\u001b[1;32m     72\u001b[0m     \u001b[0mtf_idf2\u001b[0m \u001b[0;34m=\u001b[0m \u001b[0mget_vectorizer_transform\u001b[0m\u001b[0;34m(\u001b[0m\u001b[0mtrain_data\u001b[0m\u001b[0;34m,\u001b[0m \u001b[0mvectorizer2\u001b[0m\u001b[0;34m,\u001b[0m \u001b[0mdebug\u001b[0m\u001b[0;34m,\u001b[0m \u001b[0;34m\"Vectorizer2\"\u001b[0m\u001b[0;34m)\u001b[0m\u001b[0;34m\u001b[0m\u001b[0;34m\u001b[0m\u001b[0m\n\u001b[1;32m     73\u001b[0m     \u001b[0;31m# POS tags\u001b[0m\u001b[0;34m\u001b[0m\u001b[0;34m\u001b[0m\u001b[0;34m\u001b[0m\u001b[0m\n\u001b[0;32m---> 74\u001b[0;31m     \u001b[0mpos_tags\u001b[0m \u001b[0;34m=\u001b[0m \u001b[0mget_pos_tags\u001b[0m\u001b[0;34m(\u001b[0m\u001b[0mtrain_data\u001b[0m\u001b[0;34m,\u001b[0m \u001b[0mpos_vectorizer\u001b[0m\u001b[0;34m,\u001b[0m \u001b[0mdebug\u001b[0m\u001b[0;34m)\u001b[0m\u001b[0;34m\u001b[0m\u001b[0;34m\u001b[0m\u001b[0m\n\u001b[0m\u001b[1;32m     75\u001b[0m \u001b[0;34m\u001b[0m\u001b[0m\n\u001b[1;32m     76\u001b[0m     \u001b[0;32mreturn\u001b[0m \u001b[0;34m(\u001b[0m\u001b[0mtermfrequency\u001b[0m\u001b[0;34m,\u001b[0m \u001b[0mtf_idf1\u001b[0m\u001b[0;34m,\u001b[0m \u001b[0mtf_idf2\u001b[0m\u001b[0;34m,\u001b[0m \u001b[0mpos_tags\u001b[0m\u001b[0;34m)\u001b[0m\u001b[0;34m\u001b[0m\u001b[0;34m\u001b[0m\u001b[0m\n",
      "\u001b[0;32m<ipython-input-22-b56764606649>\u001b[0m in \u001b[0;36mget_pos_tags\u001b[0;34m(docs, vectorizer, debug)\u001b[0m\n\u001b[1;32m     16\u001b[0m     \u001b[0;32mfor\u001b[0m \u001b[0md\u001b[0m \u001b[0;32min\u001b[0m \u001b[0mdocs\u001b[0m\u001b[0;34m:\u001b[0m\u001b[0;34m\u001b[0m\u001b[0;34m\u001b[0m\u001b[0m\n\u001b[1;32m     17\u001b[0m         \u001b[0mtokens\u001b[0m \u001b[0;34m=\u001b[0m \u001b[0mtokenize\u001b[0m\u001b[0;34m(\u001b[0m\u001b[0mpreprocess\u001b[0m\u001b[0;34m(\u001b[0m\u001b[0md\u001b[0m\u001b[0;34m)\u001b[0m\u001b[0;34m)\u001b[0m\u001b[0;34m\u001b[0m\u001b[0;34m\u001b[0m\u001b[0m\n\u001b[0;32m---> 18\u001b[0;31m         \u001b[0mtags\u001b[0m \u001b[0;34m=\u001b[0m \u001b[0mnltk\u001b[0m\u001b[0;34m.\u001b[0m\u001b[0mpos_tag\u001b[0m\u001b[0;34m(\u001b[0m\u001b[0mtokens\u001b[0m\u001b[0;34m)\u001b[0m\u001b[0;34m\u001b[0m\u001b[0;34m\u001b[0m\u001b[0m\n\u001b[0m\u001b[1;32m     19\u001b[0m         \u001b[0mtag_list\u001b[0m \u001b[0;34m=\u001b[0m \u001b[0;34m[\u001b[0m\u001b[0mx\u001b[0m\u001b[0;34m[\u001b[0m\u001b[0;36m1\u001b[0m\u001b[0;34m]\u001b[0m \u001b[0;32mfor\u001b[0m \u001b[0mx\u001b[0m \u001b[0;32min\u001b[0m \u001b[0mtags\u001b[0m\u001b[0;34m]\u001b[0m\u001b[0;34m\u001b[0m\u001b[0;34m\u001b[0m\u001b[0m\n\u001b[1;32m     20\u001b[0m         \u001b[0mtag_str\u001b[0m \u001b[0;34m=\u001b[0m \u001b[0;34m\" \"\u001b[0m\u001b[0;34m.\u001b[0m\u001b[0mjoin\u001b[0m\u001b[0;34m(\u001b[0m\u001b[0mtag_list\u001b[0m\u001b[0;34m)\u001b[0m\u001b[0;34m\u001b[0m\u001b[0;34m\u001b[0m\u001b[0m\n",
      "\u001b[0;32m/shared-libs/python3.7/py/lib/python3.7/site-packages/nltk/tag/__init__.py\u001b[0m in \u001b[0;36mpos_tag\u001b[0;34m(tokens, tagset, lang)\u001b[0m\n\u001b[1;32m    163\u001b[0m     \"\"\"\n\u001b[1;32m    164\u001b[0m     \u001b[0mtagger\u001b[0m \u001b[0;34m=\u001b[0m \u001b[0m_get_tagger\u001b[0m\u001b[0;34m(\u001b[0m\u001b[0mlang\u001b[0m\u001b[0;34m)\u001b[0m\u001b[0;34m\u001b[0m\u001b[0;34m\u001b[0m\u001b[0m\n\u001b[0;32m--> 165\u001b[0;31m     \u001b[0;32mreturn\u001b[0m \u001b[0m_pos_tag\u001b[0m\u001b[0;34m(\u001b[0m\u001b[0mtokens\u001b[0m\u001b[0;34m,\u001b[0m \u001b[0mtagset\u001b[0m\u001b[0;34m,\u001b[0m \u001b[0mtagger\u001b[0m\u001b[0;34m,\u001b[0m \u001b[0mlang\u001b[0m\u001b[0;34m)\u001b[0m\u001b[0;34m\u001b[0m\u001b[0;34m\u001b[0m\u001b[0m\n\u001b[0m\u001b[1;32m    166\u001b[0m \u001b[0;34m\u001b[0m\u001b[0m\n\u001b[1;32m    167\u001b[0m \u001b[0;34m\u001b[0m\u001b[0m\n",
      "\u001b[0;32m/shared-libs/python3.7/py/lib/python3.7/site-packages/nltk/tag/__init__.py\u001b[0m in \u001b[0;36m_pos_tag\u001b[0;34m(tokens, tagset, tagger, lang)\u001b[0m\n\u001b[1;32m    120\u001b[0m \u001b[0;34m\u001b[0m\u001b[0m\n\u001b[1;32m    121\u001b[0m     \u001b[0;32melse\u001b[0m\u001b[0;34m:\u001b[0m\u001b[0;34m\u001b[0m\u001b[0;34m\u001b[0m\u001b[0m\n\u001b[0;32m--> 122\u001b[0;31m         \u001b[0mtagged_tokens\u001b[0m \u001b[0;34m=\u001b[0m \u001b[0mtagger\u001b[0m\u001b[0;34m.\u001b[0m\u001b[0mtag\u001b[0m\u001b[0;34m(\u001b[0m\u001b[0mtokens\u001b[0m\u001b[0;34m)\u001b[0m\u001b[0;34m\u001b[0m\u001b[0;34m\u001b[0m\u001b[0m\n\u001b[0m\u001b[1;32m    123\u001b[0m         \u001b[0;32mif\u001b[0m \u001b[0mtagset\u001b[0m\u001b[0;34m:\u001b[0m  \u001b[0;31m# Maps to the specified tagset.\u001b[0m\u001b[0;34m\u001b[0m\u001b[0;34m\u001b[0m\u001b[0m\n\u001b[1;32m    124\u001b[0m             \u001b[0;32mif\u001b[0m \u001b[0mlang\u001b[0m \u001b[0;34m==\u001b[0m \u001b[0;34m\"eng\"\u001b[0m\u001b[0;34m:\u001b[0m\u001b[0;34m\u001b[0m\u001b[0;34m\u001b[0m\u001b[0m\n",
      "\u001b[0;32m/shared-libs/python3.7/py/lib/python3.7/site-packages/nltk/tag/perceptron.py\u001b[0m in \u001b[0;36mtag\u001b[0;34m(self, tokens, return_conf, use_tagdict)\u001b[0m\n\u001b[1;32m    186\u001b[0m             \u001b[0;32mif\u001b[0m \u001b[0;32mnot\u001b[0m \u001b[0mtag\u001b[0m\u001b[0;34m:\u001b[0m\u001b[0;34m\u001b[0m\u001b[0;34m\u001b[0m\u001b[0m\n\u001b[1;32m    187\u001b[0m                 \u001b[0mfeatures\u001b[0m \u001b[0;34m=\u001b[0m \u001b[0mself\u001b[0m\u001b[0;34m.\u001b[0m\u001b[0m_get_features\u001b[0m\u001b[0;34m(\u001b[0m\u001b[0mi\u001b[0m\u001b[0;34m,\u001b[0m \u001b[0mword\u001b[0m\u001b[0;34m,\u001b[0m \u001b[0mcontext\u001b[0m\u001b[0;34m,\u001b[0m \u001b[0mprev\u001b[0m\u001b[0;34m,\u001b[0m \u001b[0mprev2\u001b[0m\u001b[0;34m)\u001b[0m\u001b[0;34m\u001b[0m\u001b[0;34m\u001b[0m\u001b[0m\n\u001b[0;32m--> 188\u001b[0;31m                 \u001b[0mtag\u001b[0m\u001b[0;34m,\u001b[0m \u001b[0mconf\u001b[0m \u001b[0;34m=\u001b[0m \u001b[0mself\u001b[0m\u001b[0;34m.\u001b[0m\u001b[0mmodel\u001b[0m\u001b[0;34m.\u001b[0m\u001b[0mpredict\u001b[0m\u001b[0;34m(\u001b[0m\u001b[0mfeatures\u001b[0m\u001b[0;34m,\u001b[0m \u001b[0mreturn_conf\u001b[0m\u001b[0;34m)\u001b[0m\u001b[0;34m\u001b[0m\u001b[0;34m\u001b[0m\u001b[0m\n\u001b[0m\u001b[1;32m    189\u001b[0m             \u001b[0moutput\u001b[0m\u001b[0;34m.\u001b[0m\u001b[0mappend\u001b[0m\u001b[0;34m(\u001b[0m\u001b[0;34m(\u001b[0m\u001b[0mword\u001b[0m\u001b[0;34m,\u001b[0m \u001b[0mtag\u001b[0m\u001b[0;34m,\u001b[0m \u001b[0mconf\u001b[0m\u001b[0;34m)\u001b[0m \u001b[0;32mif\u001b[0m \u001b[0mreturn_conf\u001b[0m \u001b[0;34m==\u001b[0m \u001b[0;32mTrue\u001b[0m \u001b[0;32melse\u001b[0m \u001b[0;34m(\u001b[0m\u001b[0mword\u001b[0m\u001b[0;34m,\u001b[0m \u001b[0mtag\u001b[0m\u001b[0;34m)\u001b[0m\u001b[0;34m)\u001b[0m\u001b[0;34m\u001b[0m\u001b[0;34m\u001b[0m\u001b[0m\n\u001b[1;32m    190\u001b[0m \u001b[0;34m\u001b[0m\u001b[0m\n",
      "\u001b[0;32m/shared-libs/python3.7/py/lib/python3.7/site-packages/nltk/tag/perceptron.py\u001b[0m in \u001b[0;36mpredict\u001b[0;34m(self, features, return_conf)\u001b[0m\n\u001b[1;32m     65\u001b[0m             \u001b[0mweights\u001b[0m \u001b[0;34m=\u001b[0m \u001b[0mself\u001b[0m\u001b[0;34m.\u001b[0m\u001b[0mweights\u001b[0m\u001b[0;34m[\u001b[0m\u001b[0mfeat\u001b[0m\u001b[0;34m]\u001b[0m\u001b[0;34m\u001b[0m\u001b[0;34m\u001b[0m\u001b[0m\n\u001b[1;32m     66\u001b[0m             \u001b[0;32mfor\u001b[0m \u001b[0mlabel\u001b[0m\u001b[0;34m,\u001b[0m \u001b[0mweight\u001b[0m \u001b[0;32min\u001b[0m \u001b[0mweights\u001b[0m\u001b[0;34m.\u001b[0m\u001b[0mitems\u001b[0m\u001b[0;34m(\u001b[0m\u001b[0;34m)\u001b[0m\u001b[0;34m:\u001b[0m\u001b[0;34m\u001b[0m\u001b[0;34m\u001b[0m\u001b[0m\n\u001b[0;32m---> 67\u001b[0;31m                 \u001b[0mscores\u001b[0m\u001b[0;34m[\u001b[0m\u001b[0mlabel\u001b[0m\u001b[0;34m]\u001b[0m \u001b[0;34m+=\u001b[0m \u001b[0mvalue\u001b[0m \u001b[0;34m*\u001b[0m \u001b[0mweight\u001b[0m\u001b[0;34m\u001b[0m\u001b[0;34m\u001b[0m\u001b[0m\n\u001b[0m\u001b[1;32m     68\u001b[0m \u001b[0;34m\u001b[0m\u001b[0m\n\u001b[1;32m     69\u001b[0m         \u001b[0;31m# Do a secondary alphabetic sort, for stability\u001b[0m\u001b[0;34m\u001b[0m\u001b[0;34m\u001b[0m\u001b[0;34m\u001b[0m\u001b[0m\n",
      "\u001b[0;31mKeyboardInterrupt\u001b[0m: "
     ]
    }
   ],
   "execution_count": 24
  },
  {
   "cell_type": "markdown",
   "source": "<h3>Model</h3>",
   "metadata": {
    "tags": [],
    "cell_id": "00030-c464a524-f1de-4236-a6d8-437556578bcc",
    "deepnote_cell_type": "markdown"
   }
  },
  {
   "cell_type": "code",
   "metadata": {
    "tags": [],
    "cell_id": "00031-a0e2dce6-1230-49e4-9e15-d1e9b6ca0506",
    "deepnote_to_be_reexecuted": true,
    "source_hash": "e080ea92",
    "execution_start": 1622660607830,
    "execution_millis": 1301,
    "deepnote_cell_type": "code"
   },
   "source": "############ Building the model\n\n####### need train tweets, train_classes and test tweets and test_classes...  #######\n#### So M, M_, tweet_classes and test_tweet_classes don't exist. \n\nX_train = M\ny_train = tweet_classes\n\nX_test = M_\ny_test = test_tweet_classes\n\n\n#select = SelectFromModel(LogisticRegression(class_weight='balanced',penalty=\"l1\",solver='liblinear',C=0.01)) ##Meta-transformer for selecting features based on importance weights.\n#X_ = select.fit_transform(X,y)\n\nmodel = LinearSVC(class_weight='balanced',C=0.01, penalty='l2', loss='squared_hinge',multi_class='ovr').fit(X_train, y_train)\n\ny_preds = model.predict(X_test)\nreport = classification_report( y_test, y_preds )\nprint(report)\n",
   "outputs": [
    {
     "output_type": "error",
     "ename": "NameError",
     "evalue": "name 'M' is not defined",
     "traceback": [
      "\u001b[0;31m---------------------------------------------------------------------------\u001b[0m",
      "\u001b[0;31mNameError\u001b[0m                                 Traceback (most recent call last)",
      "\u001b[0;32m<ipython-input-25-13dd836ef985>\u001b[0m in \u001b[0;36m<module>\u001b[0;34m\u001b[0m\n\u001b[1;32m      4\u001b[0m \u001b[0;31m#### So M, M_, tweet_classes and test_tweet_classes don't exist.\u001b[0m\u001b[0;34m\u001b[0m\u001b[0;34m\u001b[0m\u001b[0;34m\u001b[0m\u001b[0m\n\u001b[1;32m      5\u001b[0m \u001b[0;34m\u001b[0m\u001b[0m\n\u001b[0;32m----> 6\u001b[0;31m \u001b[0mX_train\u001b[0m \u001b[0;34m=\u001b[0m \u001b[0mM\u001b[0m\u001b[0;34m\u001b[0m\u001b[0;34m\u001b[0m\u001b[0m\n\u001b[0m\u001b[1;32m      7\u001b[0m \u001b[0my_train\u001b[0m \u001b[0;34m=\u001b[0m \u001b[0mtweet_classes\u001b[0m\u001b[0;34m\u001b[0m\u001b[0;34m\u001b[0m\u001b[0m\n\u001b[1;32m      8\u001b[0m \u001b[0;34m\u001b[0m\u001b[0m\n",
      "\u001b[0;31mNameError\u001b[0m: name 'M' is not defined"
     ]
    }
   ],
   "execution_count": null
  },
  {
   "cell_type": "code",
   "metadata": {
    "tags": [],
    "cell_id": "00032-672d2ad3-8f24-4700-845f-0485c76ff272",
    "deepnote_to_be_reexecuted": true,
    "source_hash": "19439a71",
    "execution_start": 1622642836232,
    "execution_millis": 80,
    "deepnote_cell_type": "code"
   },
   "source": "import random\n\nin_data = 'tweeteval/datasets'\nout_data = 'iaa_sets'\n\niaa_size = 100\n\ncorpora = [\n    'hate' + '/', \n    'offensive' + '/',\n    'sentiment' + '/'\n\n]\n\nfor idx in corpora:\n    indir = in_data + '/' + idx\n    outdir = out_data + '/' + idx\n    with open(indir + 'train_text.txt', 'r') as file:\n        train_text = [line.rstrip('\\n') for line in file]\n    with open(indir + 'train_labels.txt', 'r') as file:\n        train_labels = [line.rstrip('\\n') for line in file]\n\n    train_size = len(train_text)\n    assert len(train_labels) == train_size\n\n    smpl = set(random.sample(range(train_size), iaa_size))\n    iaa_text = [t for i, t in enumerate(train_text) if i in smpl]\n    iaa_labels = [t for i, t in enumerate(train_labels) if i in smpl]\n\n    os.makedirs(outdir, exist_ok=True)\n    with open(outdir + 'iaa_text.txt', 'w') as f:\n        print('\\n'.join(iaa_text), file = f)\n    with open(outdir + 'iaa_labels.txt', 'w') as f:\n        print('\\n'.join(iaa_labels), file = f)\n    with open(outdir + '/iaa_indices.txt', 'w') as f:\n        print('\\n'.join(str(i) for i in sorted(smpl)), file = f)\n",
   "execution_count": null,
   "outputs": []
  },
  {
   "cell_type": "code",
   "metadata": {
    "tags": [],
    "cell_id": "00031-2c06ea88-66c2-4c75-9387-59d8f1c03743",
    "deepnote_to_be_reexecuted": true,
    "source_hash": "a566df8c",
    "execution_start": 1622659401006,
    "execution_millis": 9,
    "deepnote_cell_type": "code"
   },
   "source": "print(cohen_kappa_score(annotations['anno3'], annotations['anno4']))",
   "outputs": [
    {
     "name": "stdout",
     "text": "0.2752456112095346\n",
     "output_type": "stream"
    }
   ],
   "execution_count": null
  },
  {
   "cell_type": "markdown",
   "source": "<a style='text-decoration:none;line-height:16px;display:flex;color:#5B5B62;padding:10px;justify-content:end;' href='https://deepnote.com?utm_source=created-in-deepnote-cell&projectId=247de330-31de-47dd-b667-0f24ec91303c' target=\"_blank\">\n<img alt='Created in deepnote.com' style='display:inline;max-height:16px;margin:0px;margin-right:7.5px;' src='data:image/svg+xml;base64,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' > </img>\nCreated in <span style='font-weight:600;margin-left:4px;'>Deepnote</span></a>",
   "metadata": {
    "tags": [],
    "created_in_deepnote_cell": true,
    "deepnote_cell_type": "markdown"
   }
  }
 ],
 "nbformat": 4,
 "nbformat_minor": 2,
 "metadata": {
  "orig_nbformat": 2,
  "deepnote": {
   "is_reactive": false
  },
  "deepnote_notebook_id": "5fd5f724-0b6d-4b84-9d26-87eddfb06346",
  "deepnote_execution_queue": []
 }
}